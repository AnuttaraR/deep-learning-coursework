{
 "cells": [
  {
   "cell_type": "code",
   "execution_count": 1,
   "id": "initial_id",
   "metadata": {
    "collapsed": true,
    "ExecuteTime": {
     "end_time": "2023-11-30T18:47:39.933361500Z",
     "start_time": "2023-11-30T18:47:36.726233100Z"
    }
   },
   "outputs": [
    {
     "name": "stdout",
     "output_type": "stream",
     "text": [
      "Requirement already satisfied: transformers in c:\\users\\hp\\pycharmprojects\\deep-learning-coursework\\venv\\lib\\site-packages (4.35.2)\n",
      "Requirement already satisfied: filelock in c:\\users\\hp\\pycharmprojects\\deep-learning-coursework\\venv\\lib\\site-packages (from transformers) (3.13.1)\n",
      "Requirement already satisfied: huggingface-hub<1.0,>=0.16.4 in c:\\users\\hp\\pycharmprojects\\deep-learning-coursework\\venv\\lib\\site-packages (from transformers) (0.19.4)\n",
      "Requirement already satisfied: numpy>=1.17 in c:\\users\\hp\\pycharmprojects\\deep-learning-coursework\\venv\\lib\\site-packages (from transformers) (1.24.3)\n",
      "Requirement already satisfied: packaging>=20.0 in c:\\users\\hp\\pycharmprojects\\deep-learning-coursework\\venv\\lib\\site-packages (from transformers) (23.2)\n",
      "Requirement already satisfied: pyyaml>=5.1 in c:\\users\\hp\\pycharmprojects\\deep-learning-coursework\\venv\\lib\\site-packages (from transformers) (6.0.1)\n",
      "Requirement already satisfied: regex!=2019.12.17 in c:\\users\\hp\\pycharmprojects\\deep-learning-coursework\\venv\\lib\\site-packages (from transformers) (2023.10.3)\n",
      "Requirement already satisfied: requests in c:\\users\\hp\\pycharmprojects\\deep-learning-coursework\\venv\\lib\\site-packages (from transformers) (2.31.0)\n",
      "Requirement already satisfied: tokenizers<0.19,>=0.14 in c:\\users\\hp\\pycharmprojects\\deep-learning-coursework\\venv\\lib\\site-packages (from transformers) (0.15.0)\n",
      "Requirement already satisfied: safetensors>=0.3.1 in c:\\users\\hp\\pycharmprojects\\deep-learning-coursework\\venv\\lib\\site-packages (from transformers) (0.4.0)\n",
      "Requirement already satisfied: tqdm>=4.27 in c:\\users\\hp\\pycharmprojects\\deep-learning-coursework\\venv\\lib\\site-packages (from transformers) (4.66.1)\n",
      "Requirement already satisfied: fsspec>=2023.5.0 in c:\\users\\hp\\pycharmprojects\\deep-learning-coursework\\venv\\lib\\site-packages (from huggingface-hub<1.0,>=0.16.4->transformers) (2023.10.0)\n",
      "Requirement already satisfied: typing-extensions>=3.7.4.3 in c:\\users\\hp\\pycharmprojects\\deep-learning-coursework\\venv\\lib\\site-packages (from huggingface-hub<1.0,>=0.16.4->transformers) (4.5.0)\n",
      "Requirement already satisfied: colorama in c:\\users\\hp\\pycharmprojects\\deep-learning-coursework\\venv\\lib\\site-packages (from tqdm>=4.27->transformers) (0.4.6)\n",
      "Requirement already satisfied: charset-normalizer<4,>=2 in c:\\users\\hp\\pycharmprojects\\deep-learning-coursework\\venv\\lib\\site-packages (from requests->transformers) (3.3.2)\n",
      "Requirement already satisfied: idna<4,>=2.5 in c:\\users\\hp\\pycharmprojects\\deep-learning-coursework\\venv\\lib\\site-packages (from requests->transformers) (3.4)\n",
      "Requirement already satisfied: urllib3<3,>=1.21.1 in c:\\users\\hp\\pycharmprojects\\deep-learning-coursework\\venv\\lib\\site-packages (from requests->transformers) (2.1.0)\n",
      "Requirement already satisfied: certifi>=2017.4.17 in c:\\users\\hp\\pycharmprojects\\deep-learning-coursework\\venv\\lib\\site-packages (from requests->transformers) (2023.11.17)\n"
     ]
    }
   ],
   "source": [
    "!pip install transformers"
   ]
  },
  {
   "cell_type": "code",
   "execution_count": 2,
   "outputs": [],
   "source": [
    "import transformers \n",
    "from transformers import BertModel, BertTokenizer, AdamW, get_linear_schedule_with_warmup\n",
    "import torch\n",
    "import torch.nn as nn\n",
    "import numpy as np\n",
    "import seaborn as sns"
   ],
   "metadata": {
    "collapsed": false,
    "ExecuteTime": {
     "end_time": "2023-11-30T18:47:46.010679100Z",
     "start_time": "2023-11-30T18:47:42.757859Z"
    }
   },
   "id": "ef2796a2d6e7df51"
  },
  {
   "cell_type": "code",
   "execution_count": 3,
   "outputs": [
    {
     "data": {
      "text/plain": "<Axes: xlabel='count', ylabel='sentiment'>"
     },
     "execution_count": 3,
     "metadata": {},
     "output_type": "execute_result"
    },
    {
     "data": {
      "text/plain": "<Figure size 640x480 with 1 Axes>",
      "image/png": "[encoded data removed]"
     },
     "metadata": {},
     "output_type": "display_data"
    }
   ],
   "source": [
    "import pandas as pd\n",
    "df = pd.read_json(\"feature_engineered_dataset.json\", lines=True)\n",
    "sns.countplot(df.sentiment)"
   ],
   "metadata": {
    "collapsed": false,
    "ExecuteTime": {
     "end_time": "2023-11-30T18:48:12.173834200Z",
     "start_time": "2023-11-30T18:48:05.387040400Z"
    }
   },
   "id": "31c34e4483e76263"
  },
  {
   "cell_type": "code",
   "execution_count": 4,
   "outputs": [
    {
     "name": "stdout",
     "output_type": "stream",
     "text": [
      "SHAPE:: (25000, 10)\n"
     ]
    }
   ],
   "source": [
    "df = df.sample(25000)\n",
    "print(\"SHAPE::\",df.shape)"
   ],
   "metadata": {
    "collapsed": false,
    "ExecuteTime": {
     "end_time": "2023-11-30T18:48:12.283265100Z",
     "start_time": "2023-11-30T18:48:12.173834200Z"
    }
   },
   "id": "b436b2af57c53531"
  },
  {
   "cell_type": "code",
   "execution_count": 5,
   "outputs": [
    {
     "data": {
      "text/plain": "                     review_id                 user_id  \\\n264037  bbKKfTVLcfwGpd8VFfzXCg  MumjV_uAIvMvLp2EofTXfA   \n266469  yh5-G2QHMQ_mGw85qMEixg  _m5LRWBLY561gT9b3yUoIA   \n230957  YmBLzRDoAtX1uWw47UZqaA  HaidkMWMgaXq-Yquq099cQ   \n238731  PtiCatJ9Le3gG10xI_RJRg  6Q8dQGr_DBKcmQ1aXVWvTQ   \n448453  EZy6S9Q35b5x0Ope0vdWvQ  Y_Aj3fX2JlJh9glH5LX6VA   \n\n                   business_id  stars  useful  funny  cool  \\\n264037  G8dNtoaJZ-_ulOL37pZNNA      5       0      0     0   \n266469  HX3UAADrWMqReSRIrKteOA      1       3      0     0   \n230957  bXjnfT69E8DJinX-ifOofA      2       0      0     0   \n238731  MF5-JPr0auUkY_WLTTVUaA      4       3      0     1   \n448453  A3vvP7tuNU5Tj2qII6fJIw      4       1      0     1   \n\n                                                     text                date  \\\n264037  I was very impressed with this place. The serv... 2018-09-10 23:30:45   \n266469  *AVOID* Not only did they cut my nail down so ... 2017-06-12 20:55:32   \n230957  So, i wrote a review in January of 2017.  i ju... 2017-01-01 21:36:59   \n238731  Ended up here unexpectedly. The original place... 2018-03-31 03:15:21   \n448453  Super flavorful!  We started with an empenada,... 2009-12-03 20:50:50   \n\n       sentiment  \n264037  positive  \n266469  negative  \n230957  negative  \n238731   neutral  \n448453   neutral  ",
      "text/html": "<div>\n<style scoped>\n    .dataframe tbody tr th:only-of-type {\n        vertical-align: middle;\n    }\n\n    .dataframe tbody tr th {\n        vertical-align: top;\n    }\n\n    .dataframe thead th {\n        text-align: right;\n    }\n</style>\n<table border=\"1\" class=\"dataframe\">\n  <thead>\n    <tr style=\"text-align: right;\">\n      <th></th>\n      <th>review_id</th>\n      <th>user_id</th>\n      <th>business_id</th>\n      <th>stars</th>\n      <th>useful</th>\n      <th>funny</th>\n      <th>cool</th>\n      <th>text</th>\n      <th>date</th>\n      <th>sentiment</th>\n    </tr>\n  </thead>\n  <tbody>\n    <tr>\n      <th>264037</th>\n      <td>bbKKfTVLcfwGpd8VFfzXCg</td>\n      <td>MumjV_uAIvMvLp2EofTXfA</td>\n      <td>G8dNtoaJZ-_ulOL37pZNNA</td>\n      <td>5</td>\n      <td>0</td>\n      <td>0</td>\n      <td>0</td>\n      <td>I was very impressed with this place. The serv...</td>\n      <td>2018-09-10 23:30:45</td>\n      <td>positive</td>\n    </tr>\n    <tr>\n      <th>266469</th>\n      <td>yh5-G2QHMQ_mGw85qMEixg</td>\n      <td>_m5LRWBLY561gT9b3yUoIA</td>\n      <td>HX3UAADrWMqReSRIrKteOA</td>\n      <td>1</td>\n      <td>3</td>\n      <td>0</td>\n      <td>0</td>\n      <td>*AVOID* Not only did they cut my nail down so ...</td>\n      <td>2017-06-12 20:55:32</td>\n      <td>negative</td>\n    </tr>\n    <tr>\n      <th>230957</th>\n      <td>YmBLzRDoAtX1uWw47UZqaA</td>\n      <td>HaidkMWMgaXq-Yquq099cQ</td>\n      <td>bXjnfT69E8DJinX-ifOofA</td>\n      <td>2</td>\n      <td>0</td>\n      <td>0</td>\n      <td>0</td>\n      <td>So, i wrote a review in January of 2017.  i ju...</td>\n      <td>2017-01-01 21:36:59</td>\n      <td>negative</td>\n    </tr>\n    <tr>\n      <th>238731</th>\n      <td>PtiCatJ9Le3gG10xI_RJRg</td>\n      <td>6Q8dQGr_DBKcmQ1aXVWvTQ</td>\n      <td>MF5-JPr0auUkY_WLTTVUaA</td>\n      <td>4</td>\n      <td>3</td>\n      <td>0</td>\n      <td>1</td>\n      <td>Ended up here unexpectedly. The original place...</td>\n      <td>2018-03-31 03:15:21</td>\n      <td>neutral</td>\n    </tr>\n    <tr>\n      <th>448453</th>\n      <td>EZy6S9Q35b5x0Ope0vdWvQ</td>\n      <td>Y_Aj3fX2JlJh9glH5LX6VA</td>\n      <td>A3vvP7tuNU5Tj2qII6fJIw</td>\n      <td>4</td>\n      <td>1</td>\n      <td>0</td>\n      <td>1</td>\n      <td>Super flavorful!  We started with an empenada,...</td>\n      <td>2009-12-03 20:50:50</td>\n      <td>neutral</td>\n    </tr>\n  </tbody>\n</table>\n</div>"
     },
     "execution_count": 5,
     "metadata": {},
     "output_type": "execute_result"
    }
   ],
   "source": [
    "df.head()"
   ],
   "metadata": {
    "collapsed": false,
    "ExecuteTime": {
     "end_time": "2023-11-30T18:48:14.208930400Z",
     "start_time": "2023-11-30T18:48:14.177562900Z"
    }
   },
   "id": "3f1f705470d3477f"
  },
  {
   "cell_type": "code",
   "execution_count": 6,
   "outputs": [],
   "source": [
    "class_name = ['negative','neutral', 'positive']"
   ],
   "metadata": {
    "collapsed": false,
    "ExecuteTime": {
     "end_time": "2023-11-30T18:48:14.715592Z",
     "start_time": "2023-11-30T18:48:14.684313400Z"
    }
   },
   "id": "1cf8bbc95359c7a4"
  },
  {
   "cell_type": "code",
   "execution_count": 7,
   "outputs": [],
   "source": [
    "device = torch.device(\"cuda:0\" if torch.cuda.is_available() else \"cpu\")"
   ],
   "metadata": {
    "collapsed": false,
    "ExecuteTime": {
     "end_time": "2023-11-30T18:48:17.278892100Z",
     "start_time": "2023-11-30T18:48:17.263316500Z"
    }
   },
   "id": "7ef399502cbd5647"
  },
  {
   "cell_type": "code",
   "execution_count": 8,
   "outputs": [
    {
     "data": {
      "text/plain": "device(type='cpu')"
     },
     "execution_count": 8,
     "metadata": {},
     "output_type": "execute_result"
    }
   ],
   "source": [
    "device"
   ],
   "metadata": {
    "collapsed": false,
    "ExecuteTime": {
     "end_time": "2023-11-30T18:48:17.982225100Z",
     "start_time": "2023-11-30T18:48:17.950998800Z"
    }
   },
   "id": "752d2058da1ed531"
  },
  {
   "cell_type": "code",
   "execution_count": 9,
   "outputs": [],
   "source": [
    "PRE_TRAINED_MODEL_NAME = 'bert-base-cased'"
   ],
   "metadata": {
    "collapsed": false,
    "ExecuteTime": {
     "end_time": "2023-11-30T18:48:20.122222100Z",
     "start_time": "2023-11-30T18:48:20.075305500Z"
    }
   },
   "id": "6deb5dc7a59bc9d6"
  },
  {
   "cell_type": "code",
   "execution_count": 10,
   "outputs": [],
   "source": [
    "tokenizer = BertTokenizer.from_pretrained(PRE_TRAINED_MODEL_NAME)"
   ],
   "metadata": {
    "collapsed": false,
    "ExecuteTime": {
     "end_time": "2023-11-30T18:48:24.174716200Z",
     "start_time": "2023-11-30T18:48:21.326767900Z"
    }
   },
   "id": "c601a18d18dfb5c7"
  },
  {
   "cell_type": "code",
   "execution_count": 11,
   "outputs": [
    {
     "name": "stderr",
     "output_type": "stream",
     "text": [
      "  0%|          | 0/25000 [00:00<?, ?it/s]Truncation was not explicitly activated but `max_length` is provided a specific value, please use `truncation=True` to explicitly truncate examples to max length. Defaulting to 'longest_first' truncation strategy. If you encode pairs of sequences (GLUE-style) with the tokenizer you can select this strategy more precisely by providing a specific strategy to `truncation`.\n",
      "100%|██████████| 25000/25000 [00:31<00:00, 791.37it/s]\n",
      "C:\\Users\\HP\\AppData\\Local\\Temp\\ipykernel_2580\\1894350238.py:7: UserWarning: \n",
      "\n",
      "`distplot` is a deprecated function and will be removed in seaborn v0.14.0.\n",
      "\n",
      "Please adapt your code to use either `displot` (a figure-level function with\n",
      "similar flexibility) or `histplot` (an axes-level function for histograms).\n",
      "\n",
      "For a guide to updating your code to use the new functions, please see\n",
      "https://gist.github.com/mwaskom/de44147ed2974457ad6372750bbe5751\n",
      "\n",
      "  sns.distplot(token_lens)\n"
     ]
    },
    {
     "data": {
      "text/plain": "<Axes: ylabel='Density'>"
     },
     "execution_count": 11,
     "metadata": {},
     "output_type": "execute_result"
    },
    {
     "data": {
      "text/plain": "<Figure size 640x480 with 1 Axes>",
      "image/png": "[encoded data removed]"
     },
     "metadata": {},
     "output_type": "display_data"
    }
   ],
   "source": [
    "from tqdm import tqdm\n",
    "token_lens = []\n",
    "for txt in tqdm(df.text):\n",
    "  tokens = tokenizer.encode(txt, max_length=512)\n",
    "  token_lens.append(len(tokens))\n",
    "\n",
    "sns.distplot(token_lens)"
   ],
   "metadata": {
    "collapsed": false,
    "ExecuteTime": {
     "end_time": "2023-11-30T18:49:07.878034900Z",
     "start_time": "2023-11-30T18:48:35.774962400Z"
    }
   },
   "id": "7694e9333bbdcce7"
  },
  {
   "cell_type": "code",
   "execution_count": 12,
   "outputs": [],
   "source": [
    "MAX_LEN = 120"
   ],
   "metadata": {
    "collapsed": false,
    "ExecuteTime": {
     "end_time": "2023-11-30T18:49:37.291756300Z",
     "start_time": "2023-11-30T18:49:37.277205900Z"
    }
   },
   "id": "7b82826f16f755b4"
  },
  {
   "cell_type": "code",
   "execution_count": 13,
   "outputs": [],
   "source": [
    "from torch.utils.data import Dataset, DataLoader\n",
    "class ReviewDataset(Dataset):\n",
    "    def __init__(self,reviews,targets,tokenizer,max_len):\n",
    "        self.reviews = reviews\n",
    "        self.targets = targets\n",
    "        self.tokenizer = tokenizer\n",
    "        self.max_len = max_len\n",
    "\n",
    "    def __len__(self):\n",
    "        return len(self.reviews)\n",
    "\n",
    "    def __getitem__(self,item):\n",
    "        review = str(self.reviews[item])\n",
    "        target = self.targets[item]\n",
    "\n",
    "        encoding = self.tokenizer.encode_plus(\n",
    "            review,\n",
    "            add_special_tokens=True,\n",
    "            max_length=self.max_len,\n",
    "            return_token_type_ids=False,\n",
    "            pad_to_max_length=True,\n",
    "            return_attention_mask=True,\n",
    "            return_tensors='pt',\n",
    "            )\n",
    "        \n",
    "        return {\n",
    "            'review_text': review,\n",
    "            'input_ids': encoding['input_ids'].flatten(),\n",
    "            'attention_mask': encoding['attention_mask'].flatten(),\n",
    "            'targets': torch.tensor(target, dtype=torch.long)\n",
    "            }"
   ],
   "metadata": {
    "collapsed": false,
    "ExecuteTime": {
     "end_time": "2023-11-30T18:49:41.635942100Z",
     "start_time": "2023-11-30T18:49:41.620325Z"
    }
   },
   "id": "ce581e5477101656"
  },
  {
   "cell_type": "code",
   "execution_count": 14,
   "outputs": [
    {
     "name": "stdout",
     "output_type": "stream",
     "text": [
      "Sentiment Distribution in Training Set:\n",
      "sentiment\n",
      "positive    6832\n",
      "neutral     5037\n",
      "negative    3131\n",
      "Name: count, dtype: int64\n",
      "\n",
      "Sentiment Distribution in Validation Set:\n",
      "sentiment\n",
      "positive    2277\n",
      "neutral     1679\n",
      "negative    1044\n",
      "Name: count, dtype: int64\n",
      "\n",
      "Sentiment Distribution in Test Set:\n",
      "sentiment\n",
      "positive    2277\n",
      "neutral     1680\n",
      "negative    1043\n",
      "Name: count, dtype: int64\n"
     ]
    }
   ],
   "source": [
    "from sklearn.model_selection import train_test_split\n",
    "\n",
    "# Define the features and target variable\n",
    "X = df.drop('sentiment', axis=1)\n",
    "y = df['sentiment']\n",
    "\n",
    "# Split the data into training, validation, and test sets\n",
    "# The stratify parameter ensures that the class distribution is similar in each split\n",
    "X_train, X_temp, y_train, y_temp = train_test_split(X, y, test_size=0.4, random_state=42, stratify=y)\n",
    "X_val, X_test, y_val, y_test = train_test_split(X_temp, y_temp, test_size=0.5, random_state=42, stratify=y_temp)\n",
    "\n",
    "# Create DataFrames for each split\n",
    "df_train = pd.concat([X_train, y_train], axis=1)\n",
    "df_val = pd.concat([X_val, y_val], axis=1)\n",
    "df_test = pd.concat([X_test, y_test], axis=1)\n",
    "\n",
    "# Optional: Check the distribution of sentiment in each split\n",
    "print(\"Sentiment Distribution in Training Set:\")\n",
    "print(df_train['sentiment'].value_counts())\n",
    "\n",
    "print(\"\\nSentiment Distribution in Validation Set:\")\n",
    "print(df_val['sentiment'].value_counts())\n",
    "\n",
    "print(\"\\nSentiment Distribution in Test Set:\")\n",
    "print(df_test['sentiment'].value_counts())"
   ],
   "metadata": {
    "collapsed": false,
    "ExecuteTime": {
     "end_time": "2023-11-30T18:49:43.027317200Z",
     "start_time": "2023-11-30T18:49:42.784752Z"
    }
   },
   "id": "9f00a5b2ff0f81e4"
  },
  {
   "cell_type": "code",
   "execution_count": 15,
   "outputs": [
    {
     "data": {
      "text/plain": "((15000, 10), (5000, 10), (5000, 10))"
     },
     "execution_count": 15,
     "metadata": {},
     "output_type": "execute_result"
    }
   ],
   "source": [
    "df_train.shape, df_val.shape, df_test.shape"
   ],
   "metadata": {
    "collapsed": false,
    "ExecuteTime": {
     "end_time": "2023-11-30T18:49:44.170708200Z",
     "start_time": "2023-11-30T18:49:44.108180400Z"
    }
   },
   "id": "55f1900bd1d5848b"
  },
  {
   "cell_type": "code",
   "execution_count": 16,
   "outputs": [],
   "source": [
    "from sklearn.utils import class_weight\n",
    "\n",
    "target_variable = 'sentiment'\n",
    "\n",
    "# Compute class weights\n",
    "class_weights = class_weight.compute_class_weight('balanced',\n",
    "                                                 classes=np.unique(df[target_variable].values),\n",
    "                                                 y=df[target_variable].values)"
   ],
   "metadata": {
    "collapsed": false,
    "ExecuteTime": {
     "end_time": "2023-11-30T18:49:45.692270400Z",
     "start_time": "2023-11-30T18:49:45.661718100Z"
    }
   },
   "id": "4f4c079ca914b9fb"
  },
  {
   "cell_type": "code",
   "execution_count": 17,
   "outputs": [
    {
     "data": {
      "text/plain": "array([1.5970359 , 0.99253613, 0.73189297])"
     },
     "execution_count": 17,
     "metadata": {},
     "output_type": "execute_result"
    }
   ],
   "source": [
    "class_weights"
   ],
   "metadata": {
    "collapsed": false,
    "ExecuteTime": {
     "end_time": "2023-11-30T18:49:46.779711Z",
     "start_time": "2023-11-30T18:49:46.764094500Z"
    }
   },
   "id": "10d6d5250f2f1318"
  },
  {
   "cell_type": "code",
   "execution_count": 18,
   "outputs": [],
   "source": [
    "def create_data_loader(df,tokenizer,max_len,batch_size):\n",
    "    ds = ReviewDataset(\n",
    "        text = df.text.to_numpy(), \n",
    "        targets = df.sentiment.to_numpy(),\n",
    "        tokenizer = tokenizer,\n",
    "        max_len=max_len)\n",
    "\n",
    "    return DataLoader(ds,\n",
    "                      batch_size=batch_size,\n",
    "                      num_workers=4)"
   ],
   "metadata": {
    "collapsed": false,
    "ExecuteTime": {
     "end_time": "2023-11-30T18:49:48.049365200Z",
     "start_time": "2023-11-30T18:49:48.009927500Z"
    }
   },
   "id": "95179d138d99e783"
  },
  {
   "cell_type": "code",
   "execution_count": 19,
   "outputs": [],
   "source": [
    "from torch.utils.data import Dataset, DataLoader\n",
    "import torch\n",
    "\n",
    "class SentimentDataset(Dataset):\n",
    "    def __init__(self, text, targets, tokenizer, max_len):\n",
    "        self.text = text\n",
    "        self.targets = targets\n",
    "        self.tokenizer = tokenizer\n",
    "        self.max_len = max_len\n",
    "\n",
    "    def __len__(self):\n",
    "        return len(self.text)\n",
    "\n",
    "    def __getitem__(self, item):\n",
    "        text = str(self.text[item])\n",
    "        target = self.targets[item]\n",
    "\n",
    "        encoding = self.tokenizer.encode_plus(\n",
    "            text,\n",
    "            add_special_tokens=True,\n",
    "            max_length=self.max_len,\n",
    "            return_token_type_ids=False,\n",
    "            pad_to_max_length=True,\n",
    "            return_attention_mask=True,\n",
    "            return_tensors='pt',\n",
    "        )\n",
    "\n",
    "        return {\n",
    "            'text': text,\n",
    "            'input_ids': encoding['input_ids'].flatten(),\n",
    "            'attention_mask': encoding['attention_mask'].flatten(),\n",
    "            'targets': torch.tensor(target, dtype=torch.long)\n",
    "        }\n",
    "\n",
    "def create_data_loader(df, tokenizer, max_len, batch_size):\n",
    "    ds = SentimentDataset(\n",
    "        text=df['text'].to_numpy(),\n",
    "        targets=df['sentiment'].to_numpy(),\n",
    "        tokenizer=tokenizer,\n",
    "        max_len=max_len\n",
    "    )\n",
    "    return DataLoader(ds, batch_size=batch_size, num_workers=4)\n",
    "\n",
    "# Assuming you have the tokenizer and MAX_LEN defined\n",
    "BATCH_SIZE = 32\n",
    "train_data_loader = create_data_loader(df_train, tokenizer, MAX_LEN, BATCH_SIZE)\n",
    "val_data_loader = create_data_loader(df_val, tokenizer, MAX_LEN, BATCH_SIZE)\n",
    "test_data_loader = create_data_loader(df_test, tokenizer, MAX_LEN, BATCH_SIZE)\n"
   ],
   "metadata": {
    "collapsed": false,
    "ExecuteTime": {
     "end_time": "2023-11-30T18:49:50.035068Z",
     "start_time": "2023-11-30T18:49:49.988129500Z"
    }
   },
   "id": "133192eed4c80c00"
  },
  {
   "cell_type": "code",
   "execution_count": 20,
   "outputs": [],
   "source": [
    "bert_model = BertModel.from_pretrained(PRE_TRAINED_MODEL_NAME)"
   ],
   "metadata": {
    "collapsed": false,
    "ExecuteTime": {
     "end_time": "2023-11-30T18:49:53.567205700Z",
     "start_time": "2023-11-30T18:49:51.839926100Z"
    }
   },
   "id": "ca0a121912f0c98c"
  },
  {
   "cell_type": "code",
   "execution_count": 21,
   "outputs": [],
   "source": [
    "class SentimentClassifier(nn.Module):\n",
    "  def __init__(self, n_classes):\n",
    "    super(SentimentClassifier, self).__init__()\n",
    "    self.bert = BertModel.from_pretrained(PRE_TRAINED_MODEL_NAME)\n",
    "    self.drop = nn.Dropout(p=0.4)\n",
    "    #self.out = nn.Linear(self.bert.config.hidden_size, n_classes)\n",
    "    self.out1 = nn.Linear(self.bert.config.hidden_size, 128)\n",
    "    self.drop1 = nn.Dropout(p=0.4)\n",
    "    self.relu = nn.ReLU()\n",
    "    self.out = nn.Linear(128, n_classes)\n",
    "  \n",
    "  def forward(self, input_ids, attention_mask):\n",
    "    _, pooled_output = self.bert(\n",
    "      input_ids=input_ids,\n",
    "      attention_mask=attention_mask\n",
    "    )\n",
    "    #output = self.relu(pooled_output)\n",
    "    output = self.drop(pooled_output)\n",
    "    output = self.out1(output)\n",
    "    output = self.relu(output)\n",
    "    output = self.drop1(output)\n",
    "    return self.out(output)"
   ],
   "metadata": {
    "collapsed": false,
    "ExecuteTime": {
     "end_time": "2023-11-30T18:49:54.541947400Z",
     "start_time": "2023-11-30T18:49:54.528823400Z"
    }
   },
   "id": "6e8d15ba89a0e61b"
  },
  {
   "cell_type": "code",
   "execution_count": 22,
   "outputs": [],
   "source": [
    "model = SentimentClassifier(len(class_name))\n",
    "model = model.to(device)"
   ],
   "metadata": {
    "collapsed": false,
    "ExecuteTime": {
     "end_time": "2023-11-30T18:49:58.219775100Z",
     "start_time": "2023-11-30T18:49:56.508138900Z"
    }
   },
   "id": "19859eaf115862eb"
  },
  {
   "cell_type": "code",
   "execution_count": 23,
   "outputs": [
    {
     "name": "stderr",
     "output_type": "stream",
     "text": [
      "C:\\Users\\HP\\PycharmProjects\\deep-learning-coursework\\venv\\lib\\site-packages\\transformers\\optimization.py:411: FutureWarning: This implementation of AdamW is deprecated and will be removed in a future version. Use the PyTorch implementation torch.optim.AdamW instead, or set `no_deprecation_warning=True` to disable this warning\n",
      "  warnings.warn(\n"
     ]
    }
   ],
   "source": [
    "EPOCHS = 2\n",
    "optimizer = AdamW(model.parameters(), lr=2e-5, correct_bias=False)\n",
    "total_steps = len(train_data_loader) * EPOCHS\n",
    "scheduler = get_linear_schedule_with_warmup(\n",
    "  optimizer,\n",
    "  num_warmup_steps=0,\n",
    "  num_training_steps=total_steps\n",
    ")\n",
    "#class_weights = torch.FloatTensor(class_weights).to(device)\n",
    "#weight=class_weights\n",
    "loss_fn = nn.CrossEntropyLoss().to(device)"
   ],
   "metadata": {
    "collapsed": false,
    "ExecuteTime": {
     "end_time": "2023-11-30T18:50:01.881965500Z",
     "start_time": "2023-11-30T18:50:01.476955900Z"
    }
   },
   "id": "9934d66d638faea0"
  },
  {
   "cell_type": "code",
   "execution_count": 24,
   "outputs": [],
   "source": [
    "def train_epoch(model,data_loader,loss_fn,optimizer,device,scheduler,n_examples):\n",
    "    model = model.train()\n",
    "    losses = []\n",
    "    correct_predictions = 0\n",
    "\n",
    "    for data in data_loader:\n",
    "        input_ids = data['input_ids'].to(device)\n",
    "        attention_mask = data['attention_mask'].to(device)\n",
    "        targets = data['targets'].to(device)\n",
    "\n",
    "        outputs = model(\n",
    "            input_ids=input_ids,\n",
    "            attention_mask=attention_mask\n",
    "            )\n",
    "        _, preds = torch.max(outputs, dim=1)\n",
    "        loss = loss_fn(outputs,targets)\n",
    "\n",
    "        correct_predictions += torch.sum(preds == targets)\n",
    "        losses.append(loss.item())\n",
    "\n",
    "        loss.backward()\n",
    "        nn.utils.clip_grad_norm_(model.parameters(), max_norm=1.0)\n",
    "        optimizer.step()\n",
    "        scheduler.step()\n",
    "        optimizer.zero_grad()\n",
    "\n",
    "    return correct_predictions.double() / n_examples, np.mean(losses)\n"
   ],
   "metadata": {
    "collapsed": false,
    "ExecuteTime": {
     "end_time": "2023-11-30T18:50:04.776861100Z",
     "start_time": "2023-11-30T18:50:04.774073900Z"
    }
   },
   "id": "22cd7b363c0ba6f1"
  },
  {
   "cell_type": "code",
   "execution_count": 25,
   "outputs": [],
   "source": [
    "def eval_model(model, data_loader, loss_fn, device, n_examples):\n",
    "  model = model.eval()\n",
    "  losses = []\n",
    "  correct_predictions = 0\n",
    "  with torch.no_grad():\n",
    "    for d in data_loader:\n",
    "      input_ids = d[\"input_ids\"].to(device)\n",
    "      attention_mask = d[\"attention_mask\"].to(device)\n",
    "      targets = d[\"targets\"].to(device)\n",
    "      outputs = model(\n",
    "        input_ids=input_ids,\n",
    "        attention_mask=attention_mask\n",
    "      )\n",
    "      _, preds = torch.max(outputs, dim=1)\n",
    "      loss = loss_fn(outputs, targets)\n",
    "      correct_predictions += torch.sum(preds == targets)\n",
    "      losses.append(loss.item())\n",
    "  return correct_predictions.double() / n_examples, np.mean(losses)"
   ],
   "metadata": {
    "collapsed": false,
    "ExecuteTime": {
     "end_time": "2023-11-30T18:50:10.827598800Z",
     "start_time": "2023-11-30T18:50:10.811979300Z"
    }
   },
   "id": "73a84361dfb560ec"
  },
  {
   "cell_type": "code",
   "execution_count": null,
   "outputs": [],
   "source": [
    "from collections import defaultdict\n",
    "history = defaultdict(list)\n",
    "best_accuracy = 0\n",
    "for epoch in range(EPOCHS):\n",
    "    print(f'Epoch {epoch + 1}/{EPOCHS}')\n",
    "    print('-' * 10)\n",
    "    train_acc, train_loss = train_epoch(\n",
    "        model,\n",
    "        train_data_loader,\n",
    "        loss_fn,\n",
    "        optimizer,\n",
    "        device,\n",
    "        scheduler,\n",
    "        len(df_train)\n",
    "    )\n",
    "    print(f'Train loss {train_loss} accuracy {train_acc}')\n",
    "    val_acc, val_loss = eval_model(\n",
    "        model,\n",
    "        val_data_loader,\n",
    "        loss_fn,\n",
    "        device,\n",
    "        len(df_val)\n",
    "    )\n",
    "    print(f'Val   loss {val_loss} accuracy {val_acc}')\n",
    "    print()\n",
    "    history['train_acc'].append(train_acc)\n",
    "    history['train_loss'].append(train_loss)\n",
    "    history['val_acc'].append(val_acc)\n",
    "    history['val_loss'].append(val_loss)\n",
    "    if val_acc > best_accuracy:\n",
    "        torch.save(model.state_dict(), 'best_model_state.bin')\n",
    "        best_accuracy = val_acc"
   ],
   "metadata": {
    "collapsed": false
   },
   "id": "e0463e3d81712860"
  },
  {
   "cell_type": "code",
   "execution_count": null,
   "outputs": [],
   "source": [
    "import matplotlib.pyplot as plt\n",
    "plt.plot(history['train_acc'], label='train accuracy')\n",
    "plt.plot(history['val_acc'], label='validation accuracy')\n",
    "plt.title('Training history')\n",
    "plt.ylabel('Accuracy')\n",
    "plt.xlabel('Epoch')\n",
    "plt.legend()\n",
    "plt.ylim([0, 1]);"
   ],
   "metadata": {
    "collapsed": false
   },
   "id": "b61f4c2d10b08fd8"
  },
  {
   "cell_type": "code",
   "execution_count": null,
   "outputs": [],
   "source": [
    "test_acc, _ = eval_model(\n",
    "  model,\n",
    "  test_data_loader,\n",
    "  loss_fn,\n",
    "  device,\n",
    "  len(df_test)\n",
    ")\n",
    "test_acc.item()"
   ],
   "metadata": {
    "collapsed": false
   },
   "id": "1ab8c5cf93faa241"
  },
  {
   "cell_type": "code",
   "execution_count": null,
   "outputs": [],
   "source": [
    "def get_predictions(model, data_loader):\n",
    "  model = model.eval()\n",
    "  review_texts = []\n",
    "  predictions = []\n",
    "  prediction_probs = []\n",
    "  real_values = []\n",
    "  with torch.no_grad():\n",
    "    for d in data_loader:\n",
    "      texts = d[\"review_text\"]\n",
    "      input_ids = d[\"input_ids\"].to(device)\n",
    "      attention_mask = d[\"attention_mask\"].to(device)\n",
    "      targets = d[\"targets\"].to(device)\n",
    "      outputs = model(\n",
    "        input_ids=input_ids,\n",
    "        attention_mask=attention_mask\n",
    "      )\n",
    "      _, preds = torch.max(outputs, dim=1)\n",
    "      review_texts.extend(texts)\n",
    "      predictions.extend(preds)\n",
    "      prediction_probs.extend(outputs)\n",
    "      real_values.extend(targets)\n",
    "  predictions = torch.stack(predictions).cpu()\n",
    "  prediction_probs = torch.stack(prediction_probs).cpu()\n",
    "  real_values = torch.stack(real_values).cpu()\n",
    "  return review_texts, predictions, prediction_probs, real_values"
   ],
   "metadata": {
    "collapsed": false
   },
   "id": "2a5759149e47ab8c"
  },
  {
   "cell_type": "code",
   "execution_count": null,
   "outputs": [],
   "source": [
    "y_review_texts, y_pred, y_pred_probs, y_test = get_predictions(\n",
    "  model,\n",
    "  test_data_loader\n",
    ")"
   ],
   "metadata": {
    "collapsed": false
   },
   "id": "7c1b4ea7123501a3"
  },
  {
   "cell_type": "code",
   "execution_count": null,
   "outputs": [],
   "source": [
    "from sklearn.metrics import classification_report,confusion_matrix\n",
    "print(classification_report(y_test, y_pred, target_names=class_name))"
   ],
   "metadata": {
    "collapsed": false
   },
   "id": "96a3fa6d7cee3f33"
  },
  {
   "cell_type": "code",
   "execution_count": null,
   "outputs": [],
   "source": [
    "def show_confusion_matrix(confusion_matrix):\n",
    "  hmap = sns.heatmap(confusion_matrix, annot=True, fmt=\"d\", cmap=\"Blues\")\n",
    "  hmap.yaxis.set_ticklabels(hmap.yaxis.get_ticklabels(), rotation=0, ha='right')\n",
    "  hmap.xaxis.set_ticklabels(hmap.xaxis.get_ticklabels(), rotation=30, ha='right')\n",
    "  plt.ylabel('True sentiment')\n",
    "  plt.xlabel('Predicted sentiment');\n",
    "cm = confusion_matrix(y_test, y_pred)\n",
    "df_cm = pd.DataFrame(cm, index=class_name, columns=class_name)\n",
    "show_confusion_matrix(df_cm)"
   ],
   "metadata": {
    "collapsed": false
   },
   "id": "6fa560f9beb035ee"
  },
  {
   "cell_type": "code",
   "execution_count": null,
   "outputs": [],
   "source": [
    "review_text = \"Love the place and love the food\"\n"
   ],
   "metadata": {
    "collapsed": false
   },
   "id": "a84ebd9f0a4c072d"
  },
  {
   "cell_type": "code",
   "execution_count": null,
   "outputs": [],
   "source": [
    "encoded_review = tokenizer.encode_plus(\n",
    "  review_text,\n",
    "  max_length=MAX_LEN,\n",
    "  add_special_tokens=True,\n",
    "  return_token_type_ids=False,\n",
    "  pad_to_max_length=True,\n",
    "  return_attention_mask=True,\n",
    "  return_tensors='pt',\n",
    ")"
   ],
   "metadata": {
    "collapsed": false
   },
   "id": "5ee64f9308b47002"
  },
  {
   "cell_type": "code",
   "execution_count": null,
   "outputs": [],
   "source": [
    "input_ids = encoded_review['input_ids'].to(device)\n",
    "attention_mask = encoded_review['attention_mask'].to(device)\n",
    "output = model(input_ids, attention_mask)\n",
    "_, prediction = torch.max(output, dim=1)\n",
    "print(f'Review text: {review_text}')\n",
    "print(f'Sentiment  : {class_name[prediction]}')"
   ],
   "metadata": {
    "collapsed": false
   },
   "id": "c5c7ee0b78cf9d49"
  },
  {
   "cell_type": "code",
   "execution_count": null,
   "outputs": [],
   "source": [],
   "metadata": {
    "collapsed": false
   },
   "id": "3eeb69712739c884"
  }
 ],
 "metadata": {
  "kernelspec": {
   "display_name": "Python 3",
   "language": "python",
   "name": "python3"
  },
  "language_info": {
   "codemirror_mode": {
    "name": "ipython",
    "version": 2
   },
   "file_extension": ".py",
   "mimetype": "text/x-python",
   "name": "python",
   "nbconvert_exporter": "python",
   "pygments_lexer": "ipython2",
   "version": "2.7.6"
  }
 },
 "nbformat": 4,
 "nbformat_minor": 5
}
