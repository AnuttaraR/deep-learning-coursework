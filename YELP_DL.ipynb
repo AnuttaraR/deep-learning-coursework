{
 "nbformat": 4,
 "nbformat_minor": 0,
 "metadata": {
  "colab": {
   "name": "Yelp_sentiment_analysis",
   "provenance": []
  },
  "kernelspec": {
   "name": "python3",
   "language": "python",
   "display_name": "Python 3 (ipykernel)"
  },
  "language_info": {
   "name": "python"
  }
 },
 "cells": [
  {
   "cell_type": "markdown",
   "source": [
    "# Sentiment Analysis for YELP Reviews data using CNN\n",
    "\n"
   ],
   "metadata": {
    "id": "imM4E-LgCnEf"
   }
  },
  {
   "cell_type": "code",
   "execution_count": 1,
   "metadata": {
    "id": "PMQKMqkzwFdR",
    "ExecuteTime": {
     "end_time": "2023-12-02T17:23:03.813474300Z",
     "start_time": "2023-12-02T17:23:00.474947Z"
    }
   },
   "outputs": [],
   "source": [
    "import numpy as np\n",
    "import pandas as pd\n",
    "import seaborn as sns\n",
    "import matplotlib.pyplot as plt\n",
    "\n",
    "import tensorflow as tf\n",
    "from tensorflow.keras.preprocessing.text import Tokenizer\n",
    "\n",
    "from sklearn.metrics import accuracy_score, precision_score, recall_score, confusion_matrix, roc_curve, auc, classification_report\n",
    "from sklearn.svm import LinearSVC\n",
    "from sklearn.feature_extraction.text import TfidfVectorizer\n",
    "from sklearn.naive_bayes import MultinomialNB\n",
    "from sklearn.model_selection import cross_val_score\n",
    "from sklearn.model_selection import train_test_split\n",
    "from datetime import datetime"
   ]
  },
  {
   "cell_type": "code",
   "source": [
    "train = pd.read_csv('yelp_csv_dataset.csv', nrows= 5000, names= ('class','text'))\n",
    "test = pd.read_csv('yelp_csv_dataset.csv', nrows= 5000, names= ('class','text'))"
   ],
   "metadata": {
    "id": "X1wP10wf6NIt",
    "ExecuteTime": {
     "end_time": "2023-12-02T17:23:45.094929400Z",
     "start_time": "2023-12-02T17:23:44.953074Z"
    }
   },
   "execution_count": 2,
   "outputs": []
  },
  {
   "cell_type": "code",
   "source": [
    "train"
   ],
   "metadata": {
    "colab": {
     "base_uri": "https://localhost:8080/",
     "height": 423
    },
    "id": "VnikmY1wJN9n",
    "outputId": "11e8c0f6-21e6-4368-9c15-42e7d9d214ad",
    "ExecuteTime": {
     "end_time": "2023-12-02T17:23:46.049288700Z",
     "start_time": "2023-12-02T17:23:45.984960200Z"
    }
   },
   "execution_count": 3,
   "outputs": [
    {
     "data": {
      "text/plain": "                                                                                                                                          class  \\\nreview_id              user_id                business_id            stars useful funny cool                                               text   \nKU_O5udG6zpxOg-VcAEodg mh_-eMZ6K5RLWhZyISBhwA XQfwVwDr-v0ZS3_CbbE5Xw 3.0   0      0     0     If you decide to eat here, just be aware it is...   \nBiTunyQ73aT9WBnpR9DZGw OyoGAe7OKpv6SyGZT5g77Q 7ATYjTIgM3jUlt4UM3IypQ 5.0   1      0     1     I've taken a lot of spin classes over the year...   \nsaUsX_uimxRlCVr67Z4Jig 8g_iMtfSiwikVnbP2etR0A YjUWPpI6HXG530lwP-fb2A 3.0   0      0     0     Family diner. Had the buffet. Eclectic assortm...   \nAqPFMleE6RsU23_auESxiA _7bHUi9Uuf5__HHc_Q8guQ kxX2SOes4o-D3ZQBkiMRfA 5.0   1      0     1     Wow!  Yummy, different,  delicious.   Our favo...   \n...                                                                                                                                         ...   \nvw_ZNbSmRRnNR8TCxwOMiw yEqlc5iTOV3HpHbrbgcg5w FHNIvNgh3fS7VZQq2Y3dsA 4.0   2      0     1     So I came here after all the hoopla on the foo...   \nBy8WlqTsXoV46IMPWwtMrw nahEdT5OenB5UpJ0Ialq9Q ZY2feSm2sc5nTXYHnKpMGQ 4.0   1      0     0     After trying the pizza here on Halloween night...   \n54kBINwBwrymR7eCynYQkA Mq1kV9Rxhxd1DFckBUOabg bKgyXSQUGA8IHGt8ne5NuA 5.0   0      0     0     Went here today with my family and I must say ...   \nNaz6TaEzsRBOT__yIvdErQ ruM0V_9ZAHCcdXW02ZPMCw l7b33ubze8Jqw7C4I1CAuA 1.0   0      0     0     My Room was disgusting. The odor when I walked...   \n03bWH0dNSqEIApT5yVVYVg 5aMysI3ZNdHEmRcap4LaaQ cXAKeC-EgVChIxhS7fscmw 5.0   0      0     0     First time my girlfriend and I came here and i...   \n\n                                                                                                             text  \nreview_id              user_id                business_id            stars useful funny cool                 date  \nKU_O5udG6zpxOg-VcAEodg mh_-eMZ6K5RLWhZyISBhwA XQfwVwDr-v0ZS3_CbbE5Xw 3.0   0      0     0     2018-07-07 22:09:11  \nBiTunyQ73aT9WBnpR9DZGw OyoGAe7OKpv6SyGZT5g77Q 7ATYjTIgM3jUlt4UM3IypQ 5.0   1      0     1     2012-01-03 15:28:18  \nsaUsX_uimxRlCVr67Z4Jig 8g_iMtfSiwikVnbP2etR0A YjUWPpI6HXG530lwP-fb2A 3.0   0      0     0     2014-02-05 20:30:30  \nAqPFMleE6RsU23_auESxiA _7bHUi9Uuf5__HHc_Q8guQ kxX2SOes4o-D3ZQBkiMRfA 5.0   1      0     1     2015-01-04 00:01:03  \n...                                                                                                           ...  \nvw_ZNbSmRRnNR8TCxwOMiw yEqlc5iTOV3HpHbrbgcg5w FHNIvNgh3fS7VZQq2Y3dsA 4.0   2      0     1     2013-04-11 00:08:16  \nBy8WlqTsXoV46IMPWwtMrw nahEdT5OenB5UpJ0Ialq9Q ZY2feSm2sc5nTXYHnKpMGQ 4.0   1      0     0     2015-12-05 11:37:33  \n54kBINwBwrymR7eCynYQkA Mq1kV9Rxhxd1DFckBUOabg bKgyXSQUGA8IHGt8ne5NuA 5.0   0      0     0     2015-12-21 08:16:29  \nNaz6TaEzsRBOT__yIvdErQ ruM0V_9ZAHCcdXW02ZPMCw l7b33ubze8Jqw7C4I1CAuA 1.0   0      0     0     2012-03-30 05:33:31  \n03bWH0dNSqEIApT5yVVYVg 5aMysI3ZNdHEmRcap4LaaQ cXAKeC-EgVChIxhS7fscmw 5.0   0      0     0     2018-01-09 22:18:57  \n\n[5000 rows x 2 columns]",
      "text/html": "<div>\n<style scoped>\n    .dataframe tbody tr th:only-of-type {\n        vertical-align: middle;\n    }\n\n    .dataframe tbody tr th {\n        vertical-align: top;\n    }\n\n    .dataframe thead th {\n        text-align: right;\n    }\n</style>\n<table border=\"1\" class=\"dataframe\">\n  <thead>\n    <tr style=\"text-align: right;\">\n      <th></th>\n      <th></th>\n      <th></th>\n      <th></th>\n      <th></th>\n      <th></th>\n      <th></th>\n      <th>class</th>\n      <th>text</th>\n    </tr>\n  </thead>\n  <tbody>\n    <tr>\n      <th>review_id</th>\n      <th>user_id</th>\n      <th>business_id</th>\n      <th>stars</th>\n      <th>useful</th>\n      <th>funny</th>\n      <th>cool</th>\n      <td>text</td>\n      <td>date</td>\n    </tr>\n    <tr>\n      <th>KU_O5udG6zpxOg-VcAEodg</th>\n      <th>mh_-eMZ6K5RLWhZyISBhwA</th>\n      <th>XQfwVwDr-v0ZS3_CbbE5Xw</th>\n      <th>3.0</th>\n      <th>0</th>\n      <th>0</th>\n      <th>0</th>\n      <td>If you decide to eat here, just be aware it is...</td>\n      <td>2018-07-07 22:09:11</td>\n    </tr>\n    <tr>\n      <th>BiTunyQ73aT9WBnpR9DZGw</th>\n      <th>OyoGAe7OKpv6SyGZT5g77Q</th>\n      <th>7ATYjTIgM3jUlt4UM3IypQ</th>\n      <th>5.0</th>\n      <th>1</th>\n      <th>0</th>\n      <th>1</th>\n      <td>I've taken a lot of spin classes over the year...</td>\n      <td>2012-01-03 15:28:18</td>\n    </tr>\n    <tr>\n      <th>saUsX_uimxRlCVr67Z4Jig</th>\n      <th>8g_iMtfSiwikVnbP2etR0A</th>\n      <th>YjUWPpI6HXG530lwP-fb2A</th>\n      <th>3.0</th>\n      <th>0</th>\n      <th>0</th>\n      <th>0</th>\n      <td>Family diner. Had the buffet. Eclectic assortm...</td>\n      <td>2014-02-05 20:30:30</td>\n    </tr>\n    <tr>\n      <th>AqPFMleE6RsU23_auESxiA</th>\n      <th>_7bHUi9Uuf5__HHc_Q8guQ</th>\n      <th>kxX2SOes4o-D3ZQBkiMRfA</th>\n      <th>5.0</th>\n      <th>1</th>\n      <th>0</th>\n      <th>1</th>\n      <td>Wow!  Yummy, different,  delicious.   Our favo...</td>\n      <td>2015-01-04 00:01:03</td>\n    </tr>\n    <tr>\n      <th>...</th>\n      <th>...</th>\n      <th>...</th>\n      <th>...</th>\n      <th>...</th>\n      <th>...</th>\n      <th>...</th>\n      <td>...</td>\n      <td>...</td>\n    </tr>\n    <tr>\n      <th>vw_ZNbSmRRnNR8TCxwOMiw</th>\n      <th>yEqlc5iTOV3HpHbrbgcg5w</th>\n      <th>FHNIvNgh3fS7VZQq2Y3dsA</th>\n      <th>4.0</th>\n      <th>2</th>\n      <th>0</th>\n      <th>1</th>\n      <td>So I came here after all the hoopla on the foo...</td>\n      <td>2013-04-11 00:08:16</td>\n    </tr>\n    <tr>\n      <th>By8WlqTsXoV46IMPWwtMrw</th>\n      <th>nahEdT5OenB5UpJ0Ialq9Q</th>\n      <th>ZY2feSm2sc5nTXYHnKpMGQ</th>\n      <th>4.0</th>\n      <th>1</th>\n      <th>0</th>\n      <th>0</th>\n      <td>After trying the pizza here on Halloween night...</td>\n      <td>2015-12-05 11:37:33</td>\n    </tr>\n    <tr>\n      <th>54kBINwBwrymR7eCynYQkA</th>\n      <th>Mq1kV9Rxhxd1DFckBUOabg</th>\n      <th>bKgyXSQUGA8IHGt8ne5NuA</th>\n      <th>5.0</th>\n      <th>0</th>\n      <th>0</th>\n      <th>0</th>\n      <td>Went here today with my family and I must say ...</td>\n      <td>2015-12-21 08:16:29</td>\n    </tr>\n    <tr>\n      <th>Naz6TaEzsRBOT__yIvdErQ</th>\n      <th>ruM0V_9ZAHCcdXW02ZPMCw</th>\n      <th>l7b33ubze8Jqw7C4I1CAuA</th>\n      <th>1.0</th>\n      <th>0</th>\n      <th>0</th>\n      <th>0</th>\n      <td>My Room was disgusting. The odor when I walked...</td>\n      <td>2012-03-30 05:33:31</td>\n    </tr>\n    <tr>\n      <th>03bWH0dNSqEIApT5yVVYVg</th>\n      <th>5aMysI3ZNdHEmRcap4LaaQ</th>\n      <th>cXAKeC-EgVChIxhS7fscmw</th>\n      <th>5.0</th>\n      <th>0</th>\n      <th>0</th>\n      <th>0</th>\n      <td>First time my girlfriend and I came here and i...</td>\n      <td>2018-01-09 22:18:57</td>\n    </tr>\n  </tbody>\n</table>\n<p>5000 rows × 2 columns</p>\n</div>"
     },
     "execution_count": 3,
     "metadata": {},
     "output_type": "execute_result"
    }
   ]
  },
  {
   "cell_type": "code",
   "source": [
    "train.loc[train[\"class\"] == 1, \"class\"] = 0\n",
    "train.loc[train[\"class\"] == 2, \"class\"] = 1\n",
    "test.loc[test[\"class\"] == 1, \"class\"] = 0\n",
    "test.loc[test[\"class\"] == 2, \"class\"] = 1"
   ],
   "metadata": {
    "id": "O4vk9BGDcvDG",
    "ExecuteTime": {
     "end_time": "2023-12-02T17:23:50.123407400Z",
     "start_time": "2023-12-02T17:23:50.076189200Z"
    }
   },
   "execution_count": 4,
   "outputs": []
  },
  {
   "cell_type": "markdown",
   "source": [
    "Let's look at how many words in each review by counting spaces in the text."
   ],
   "metadata": {
    "id": "GViKCMbW0xk1"
   }
  },
  {
   "cell_type": "code",
   "source": [
    "train[\"word_count\"] = train[\"text\"].str.split().str.len()\n",
    "train[\"word_count\"].hist()"
   ],
   "metadata": {
    "colab": {
     "base_uri": "https://localhost:8080/",
     "height": 283
    },
    "id": "CAQvz_PRPWW7",
    "outputId": "f56ab281-96cd-4635-b763-6ab9d0707efe",
    "ExecuteTime": {
     "end_time": "2023-12-02T17:24:06.313307300Z",
     "start_time": "2023-12-02T17:24:05.983250700Z"
    }
   },
   "execution_count": 5,
   "outputs": [
    {
     "data": {
      "text/plain": "<Axes: >"
     },
     "execution_count": 5,
     "metadata": {},
     "output_type": "execute_result"
    },
    {
     "data": {
      "text/plain": "<Figure size 640x480 with 1 Axes>",
      "image/png": "[encoded data removed]"
     },
     "metadata": {},
     "output_type": "display_data"
    }
   ]
  },
  {
   "cell_type": "code",
   "source": [
    "X_train = train['text']\n",
    "y_train = train['class']\n",
    "X_test = test['text']\n",
    "y_test = test['class']"
   ],
   "metadata": {
    "id": "K3S7il_55uS-",
    "ExecuteTime": {
     "end_time": "2023-12-02T17:24:07.335337200Z",
     "start_time": "2023-12-02T17:24:07.303634500Z"
    }
   },
   "execution_count": 6,
   "outputs": []
  },
  {
   "cell_type": "markdown",
   "source": [
    "Tokenize the text in training and testing data: choose the 20,000 most common words and set vector size as 300."
   ],
   "metadata": {
    "id": "ExxYG7dAOFD6"
   }
  },
  {
   "cell_type": "code",
   "source": [
    "from keras.preprocessing.text import Tokenizer\n",
    "\n",
    "max_vocab = 20000\n",
    "tokenizer = Tokenizer(num_words=max_vocab)\n",
    "\n",
    "X_train = [str(text) for text in X_train]\n",
    "X_test = [str(text) for text in X_test]\n",
    "\n",
    "tokenizer.fit_on_texts(X_train)\n",
    "X_train = tokenizer.texts_to_sequences(X_train)\n",
    "X_test = tokenizer.texts_to_sequences(X_test)\n"
   ],
   "metadata": {
    "id": "LZ1OHKCuN-pB",
    "ExecuteTime": {
     "end_time": "2023-12-02T17:27:24.427685800Z",
     "start_time": "2023-12-02T17:27:22.691605500Z"
    }
   },
   "execution_count": 12,
   "outputs": []
  },
  {
   "cell_type": "code",
   "source": [
    "X_train = tf.keras.preprocessing.sequence.pad_sequences(X_train, padding='post', maxlen=300)\n",
    "X_test = tf.keras.preprocessing.sequence.pad_sequences(X_test, padding='post', maxlen=300)"
   ],
   "metadata": {
    "id": "9bc4snq23gR3",
    "ExecuteTime": {
     "end_time": "2023-12-02T17:27:26.096328500Z",
     "start_time": "2023-12-02T17:27:25.902435800Z"
    }
   },
   "execution_count": 13,
   "outputs": []
  },
  {
   "cell_type": "markdown",
   "source": [
    "## Convolutional Neural Networks (CNN)\n",
    "\n",
    "Build model and add layers:\n"
   ],
   "metadata": {
    "id": "erafW9FuN0hk"
   }
  },
  {
   "cell_type": "code",
   "source": [
    "model_cnn = tf.keras.Sequential([\n",
    "    tf.keras.layers.Embedding(max_vocab, 128, input_length=300),\n",
    "    tf.keras.layers.Dropout(0.5),\n",
    "    tf.keras.layers.Conv1D(64, 5, activation='relu'),\n",
    "    tf.keras.layers.MaxPooling1D(pool_size=4),\n",
    "    tf.keras.layers.LSTM(128),\n",
    "    tf.keras.layers.Dense(1, activation='sigmoid')\n",
    "])\n",
    "\n",
    "model_cnn.summary()"
   ],
   "metadata": {
    "colab": {
     "base_uri": "https://localhost:8080/"
    },
    "id": "NGL7lqHgO8NM",
    "outputId": "d86f1ae8-a917-4f0c-c4de-29bfc5a6d768",
    "ExecuteTime": {
     "end_time": "2023-12-02T17:27:47.483552700Z",
     "start_time": "2023-12-02T17:27:47.014555800Z"
    }
   },
   "execution_count": 14,
   "outputs": [
    {
     "name": "stdout",
     "output_type": "stream",
     "text": [
      "Model: \"sequential\"\n",
      "_________________________________________________________________\n",
      " Layer (type)                Output Shape              Param #   \n",
      "=================================================================\n",
      " embedding (Embedding)       (None, 300, 128)          2560000   \n",
      "                                                                 \n",
      " dropout (Dropout)           (None, 300, 128)          0         \n",
      "                                                                 \n",
      " conv1d (Conv1D)             (None, 296, 64)           41024     \n",
      "                                                                 \n",
      " max_pooling1d (MaxPooling1  (None, 74, 64)            0         \n",
      " D)                                                              \n",
      "                                                                 \n",
      " lstm (LSTM)                 (None, 128)               98816     \n",
      "                                                                 \n",
      " dense (Dense)               (None, 1)                 129       \n",
      "                                                                 \n",
      "=================================================================\n",
      "Total params: 2699969 (10.30 MB)\n",
      "Trainable params: 2699969 (10.30 MB)\n",
      "Non-trainable params: 0 (0.00 Byte)\n",
      "_________________________________________________________________\n"
     ]
    }
   ]
  },
  {
   "cell_type": "markdown",
   "source": [
    "### Train model\n",
    "\n",
    "Since the data set contains 5000 rows, so we run 2 epochs maximum, with batch size of 32, and use early stop that automatically stops training when a monitored metric \"val_loss\" has stopped improving."
   ],
   "metadata": {
    "id": "jsZde2wTPVgq"
   }
  },
  {
   "cell_type": "code",
   "execution_count": null,
   "outputs": [],
   "source": [
    "!pip install --upgrade tensorflow"
   ],
   "metadata": {
    "collapsed": false
   }
  },
  {
   "cell_type": "code",
   "source": [
    "import tensorflow as tf\n",
    "from sklearn.preprocessing import LabelEncoder\n",
    "\n",
    "\n",
    "label_encoder = LabelEncoder()\n",
    "y_train_encoded = label_encoder.fit_transform(y_train)\n",
    "early_stop = tf.keras.callbacks.EarlyStopping(monitor='val_loss', patience=2, restore_best_weights=True)\n",
    "\n",
    "model_cnn.compile(loss='binary_crossentropy', optimizer='adam', metrics=['accuracy'])\n",
    "\n",
    "# Make sure X_train and y_train are NumPy arrays or TensorFlow tensors\n",
    "X_train = tf.convert_to_tensor(X_train)\n",
    "y_train = tf.convert_to_tensor(y_train)\n",
    "\n",
    "history_cnn = model_cnn.fit(X_train, y_train_encoded, epochs=2, validation_split=0.3, batch_size=32, shuffle=True, callbacks=[early_stop])\n"
   ],
   "metadata": {
    "colab": {
     "base_uri": "https://localhost:8080/"
    },
    "id": "UgzX5Nmkc_FE",
    "outputId": "f244cc2e-5287-4102-c3c6-b232f09b3c18",
    "ExecuteTime": {
     "end_time": "2023-12-02T17:50:25.091531900Z",
     "start_time": "2023-12-02T17:49:39.034610Z"
    }
   },
   "execution_count": 28,
   "outputs": [
    {
     "name": "stdout",
     "output_type": "stream",
     "text": [
      "Epoch 1/2\n",
      "110/110 [==============================] - 26s 191ms/step - loss: -42594.6094 - accuracy: 2.8571e-04 - val_loss: -67657.7969 - val_accuracy: 0.0000e+00\n",
      "Epoch 2/2\n",
      "110/110 [==============================] - 20s 180ms/step - loss: -83109.5859 - accuracy: 2.8571e-04 - val_loss: -104009.3984 - val_accuracy: 0.0000e+00\n"
     ]
    }
   ]
  },
  {
   "cell_type": "markdown",
   "source": [
    "### Evaluation"
   ],
   "metadata": {
    "id": "6D9ZHRz3lHej"
   }
  },
  {
   "cell_type": "code",
   "source": [
    "model_cnn.evaluate(X_test, y_test)"
   ],
   "metadata": {
    "colab": {
     "base_uri": "https://localhost:8080/"
    },
    "id": "sUMYZlWIYILm",
    "outputId": "b6cbfc81-b6c5-4cf6-9a49-35c1febe0d16"
   },
   "execution_count": null,
   "outputs": [
    {
     "output_type": "stream",
     "name": "stdout",
     "text": [
      "1188/1188 [==============================] - 49s 40ms/step - loss: 0.1183 - accuracy: 0.9571\n"
     ]
    },
    {
     "output_type": "execute_result",
     "data": {
      "text/plain": [
       "[0.11831604689359665, 0.957105278968811]"
      ]
     },
     "metadata": {},
     "execution_count": 13
    }
   ]
  },
  {
   "cell_type": "code",
   "source": [
    "pred_cnn = model_cnn.predict(X_test)\n",
    "\n",
    "predictions_cnn = []\n",
    "\n",
    "for i in pred_cnn:\n",
    "    if i >= 0.5:\n",
    "        predictions_cnn.append(1)\n",
    "    else:\n",
    "        predictions_cnn.append(0)\n",
    "\n",
    "print('Accuracy on testing set:', accuracy_score(predictions_cnn, y_test))\n",
    "print('Precision on testing set:', precision_score(predictions_cnn, y_test))\n",
    "print('Recall on testing set:', recall_score(predictions_cnn, y_test))"
   ],
   "metadata": {
    "colab": {
     "base_uri": "https://localhost:8080/"
    },
    "id": "aiLrKNV4lUpS",
    "outputId": "e8b62e49-eae0-4eb0-d835-7966b7992c11"
   },
   "execution_count": null,
   "outputs": [
    {
     "output_type": "stream",
     "name": "stdout",
     "text": [
      "Accuracy on testing set: 0.9571052631578948\n",
      "Precision on testing set: 0.9568421052631579\n",
      "Recall on testing set: 0.957345971563981\n"
     ]
    }
   ]
  },
  {
   "cell_type": "code",
   "source": [
    "matrix = confusion_matrix(predictions_cnn, y_test, normalize='all')\n",
    "plt.figure(figsize=(8, 5))\n",
    "ax= plt.subplot()\n",
    "sns.set(font_scale=1)\n",
    "sns.heatmap(matrix, annot=True, ax = ax)\n",
    "\n",
    "ax.set_xlabel('Predicted Labels', size=15)\n",
    "ax.set_ylabel('True Labels', size=15)\n",
    "ax.set_title('Confusion Matrix', size=20)\n",
    "ax.xaxis.set_ticklabels([\"no\",\"yes\"], size=15)\n",
    "ax.yaxis.set_ticklabels([\"no\",\"yes\"], size=15)"
   ],
   "metadata": {
    "colab": {
     "base_uri": "https://localhost:8080/",
     "height": 383
    },
    "id": "Kbmx9A1DlqCh",
    "outputId": "63562611-607a-4c3a-f7d5-7a0de67290c9"
   },
   "execution_count": null,
   "outputs": [
    {
     "output_type": "execute_result",
     "data": {
      "text/plain": [
       "[Text(0, 0.5, 'no'), Text(0, 1.5, 'yes')]"
      ]
     },
     "metadata": {},
     "execution_count": 23
    },
    {
     "output_type": "display_data",
     "data": {
      "image/png": "[encoded data removed]",
      "text/plain": [
       "<Figure size 576x360 with 2 Axes>"
      ]
     },
     "metadata": {
      "needs_background": "light"
     }
    }
   ]
  }
 ]
}
