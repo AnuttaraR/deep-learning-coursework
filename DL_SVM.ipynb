{
 "cells": [
  {
   "cell_type": "code",
   "execution_count": 45,
   "id": "initial_id",
   "metadata": {
    "collapsed": true,
    "ExecuteTime": {
     "end_time": "2023-12-01T15:18:39.763638600Z",
     "start_time": "2023-12-01T15:18:39.716400400Z"
    }
   },
   "outputs": [
    {
     "name": "stdout",
     "output_type": "stream",
     "text": [
      "%pylab is deprecated, use %matplotlib inline and import the required libraries.\n",
      "Populating the interactive namespace from numpy and matplotlib\n"
     ]
    }
   ],
   "source": [
    "# Importing libraries for plotting and data analysis\n",
    "%pylab inline\n",
    "import warnings\n",
    "\n",
    "# Ignore warnings \n",
    "warnings.filterwarnings('ignore')\n",
    "\n",
    "# Configure the IPython shell\n",
    "from IPython.core.interactiveshell import InteractiveShell\n",
    "\n",
    "# Setting the display behavior to show the output of all expressions in a single cell\n",
    "InteractiveShell.ast_node_interactivity = \"all\""
   ]
  },
  {
   "cell_type": "code",
   "execution_count": 46,
   "outputs": [],
   "source": [
    "# Importing libraries for DA/NLP\n",
    "import pandas as pd\n",
    "import numpy as np\n",
    "import matplotlib.pyplot as plt\n",
    "import seaborn as sns\n",
    "import nltk\n",
    "from nltk.corpus import stopwords\n",
    "# nltk.download('stopwords')\n",
    "\n",
    "# tqdm for displaying progress bars during iterations\n",
    "from tqdm import tqdm_notebook as tqdm\n",
    "from collections import Counter"
   ],
   "metadata": {
    "collapsed": false,
    "ExecuteTime": {
     "end_time": "2023-12-01T15:18:40.407399400Z",
     "start_time": "2023-12-01T15:18:40.381588Z"
    }
   },
   "id": "1c5dfaad369b0a3c"
  },
  {
   "cell_type": "code",
   "execution_count": 47,
   "outputs": [
    {
     "data": {
      "text/plain": "                review_id             business_id                 user_id  \\\n0  KU_O5udG6zpxOg-VcAEodg  XQfwVwDr-v0ZS3_CbbE5Xw  mh_-eMZ6K5RLWhZyISBhwA   \n1  BiTunyQ73aT9WBnpR9DZGw  7ATYjTIgM3jUlt4UM3IypQ  OyoGAe7OKpv6SyGZT5g77Q   \n2  saUsX_uimxRlCVr67Z4Jig  YjUWPpI6HXG530lwP-fb2A  8g_iMtfSiwikVnbP2etR0A   \n3  AqPFMleE6RsU23_auESxiA  kxX2SOes4o-D3ZQBkiMRfA  _7bHUi9Uuf5__HHc_Q8guQ   \n4  Sx8TMOWLNuJBWer-0pcmoA  e4Vwtrqf-wpJfwesgvdgxQ  bcjbaE6dDog4jkNY91ncLQ   \n\n                                                text  stars  \n0  If you decide to eat here, just be aware it is...    3.0  \n1  I've taken a lot of spin classes over the year...    5.0  \n2  Family diner. Had the buffet. Eclectic assortm...    3.0  \n3  Wow!  Yummy, different,  delicious.   Our favo...    5.0  \n4  Cute interior and owner (?) gave us tour of up...    4.0  ",
      "text/html": "<div>\n<style scoped>\n    .dataframe tbody tr th:only-of-type {\n        vertical-align: middle;\n    }\n\n    .dataframe tbody tr th {\n        vertical-align: top;\n    }\n\n    .dataframe thead th {\n        text-align: right;\n    }\n</style>\n<table border=\"1\" class=\"dataframe\">\n  <thead>\n    <tr style=\"text-align: right;\">\n      <th></th>\n      <th>review_id</th>\n      <th>business_id</th>\n      <th>user_id</th>\n      <th>text</th>\n      <th>stars</th>\n    </tr>\n  </thead>\n  <tbody>\n    <tr>\n      <th>0</th>\n      <td>KU_O5udG6zpxOg-VcAEodg</td>\n      <td>XQfwVwDr-v0ZS3_CbbE5Xw</td>\n      <td>mh_-eMZ6K5RLWhZyISBhwA</td>\n      <td>If you decide to eat here, just be aware it is...</td>\n      <td>3.0</td>\n    </tr>\n    <tr>\n      <th>1</th>\n      <td>BiTunyQ73aT9WBnpR9DZGw</td>\n      <td>7ATYjTIgM3jUlt4UM3IypQ</td>\n      <td>OyoGAe7OKpv6SyGZT5g77Q</td>\n      <td>I've taken a lot of spin classes over the year...</td>\n      <td>5.0</td>\n    </tr>\n    <tr>\n      <th>2</th>\n      <td>saUsX_uimxRlCVr67Z4Jig</td>\n      <td>YjUWPpI6HXG530lwP-fb2A</td>\n      <td>8g_iMtfSiwikVnbP2etR0A</td>\n      <td>Family diner. Had the buffet. Eclectic assortm...</td>\n      <td>3.0</td>\n    </tr>\n    <tr>\n      <th>3</th>\n      <td>AqPFMleE6RsU23_auESxiA</td>\n      <td>kxX2SOes4o-D3ZQBkiMRfA</td>\n      <td>_7bHUi9Uuf5__HHc_Q8guQ</td>\n      <td>Wow!  Yummy, different,  delicious.   Our favo...</td>\n      <td>5.0</td>\n    </tr>\n    <tr>\n      <th>4</th>\n      <td>Sx8TMOWLNuJBWer-0pcmoA</td>\n      <td>e4Vwtrqf-wpJfwesgvdgxQ</td>\n      <td>bcjbaE6dDog4jkNY91ncLQ</td>\n      <td>Cute interior and owner (?) gave us tour of up...</td>\n      <td>4.0</td>\n    </tr>\n  </tbody>\n</table>\n</div>"
     },
     "metadata": {},
     "output_type": "display_data"
    }
   ],
   "source": [
    "# Loading dataset\n",
    "reviews_dataset = pd.read_csv('yelp_csv_dataset.csv')\n",
    "\n",
    "#Dropping unwanted columns and selecting only needed columns\n",
    "selected_columns = ['review_id', 'business_id', 'user_id', 'text', 'stars']\n",
    "reviews_dataset = reviews_dataset[selected_columns]\n",
    "\n",
    "# Display the modified dataset\n",
    "display(reviews_dataset.head())"
   ],
   "metadata": {
    "collapsed": false,
    "ExecuteTime": {
     "end_time": "2023-12-01T15:18:43.255430Z",
     "start_time": "2023-12-01T15:18:42.090367700Z"
    }
   },
   "id": "c957568341a567c5"
  },
  {
   "cell_type": "code",
   "execution_count": 48,
   "outputs": [
    {
     "name": "stdout",
     "output_type": "stream",
     "text": [
      "Total No. of Reviews: (100000, 5)\n"
     ]
    }
   ],
   "source": [
    "# Check No.of Rows\n",
    "print(\"Total No. of Reviews: {}\".format(reviews_dataset.shape))"
   ],
   "metadata": {
    "collapsed": false,
    "ExecuteTime": {
     "end_time": "2023-12-01T15:18:44.149912200Z",
     "start_time": "2023-12-01T15:18:44.133499800Z"
    }
   },
   "id": "b53efd86c5990758"
  },
  {
   "cell_type": "code",
   "execution_count": 49,
   "outputs": [
    {
     "data": {
      "text/plain": "(100000, 5)"
     },
     "execution_count": 49,
     "metadata": {},
     "output_type": "execute_result"
    }
   ],
   "source": [
    "reviews_dataset.shape"
   ],
   "metadata": {
    "collapsed": false,
    "ExecuteTime": {
     "end_time": "2023-12-01T15:18:45.480141200Z",
     "start_time": "2023-12-01T15:18:45.447995300Z"
    }
   },
   "id": "c7402a8cecc783fe"
  },
  {
   "cell_type": "code",
   "execution_count": 50,
   "outputs": [],
   "source": [
    "import string\n",
    "\n",
    "def get_clean_text(sample_review):\n",
    "    # List of English stopwords from NLTK\n",
    "    stopwords = nltk.corpus.stopwords.words('english')\n",
    "    # Additional custom stopwords to be excluded\n",
    "    newStopWords = ['ive', 'hadnt', 'couldnt', 'didnt', 'id']  \n",
    "    stopwords.extend(newStopWords)\n",
    "\n",
    "    # Original text from the sample review\n",
    "    text = sample_review\n",
    "\n",
    "    # Convert to lowercase\n",
    "    text = text[2: len(sample_review)-1].lower()\n",
    "\n",
    "    # Replace special characters with spaces\n",
    "    text = text.replace('\\\\n', ' ').replace('\\\\t', ' ')\n",
    "\n",
    "    # Remove punctuation\n",
    "    nopunc = [char for char in text if char not in string.punctuation]\n",
    "    nopunc = ''.join(nopunc)\n",
    "\n",
    "    # Remove stopwords\n",
    "    l = [word for word in nopunc.split() if word.lower() not in stopwords]\n",
    "\n",
    "    # Reconstruct the cleaned text\n",
    "    clean_text = \" \".join(l)\n",
    "\n",
    "    return clean_text.strip()"
   ],
   "metadata": {
    "collapsed": false,
    "ExecuteTime": {
     "end_time": "2023-12-01T15:18:47.406275200Z",
     "start_time": "2023-12-01T15:18:47.390709800Z"
    }
   },
   "id": "c3778c1ce613691c"
  },
  {
   "cell_type": "code",
   "execution_count": 51,
   "outputs": [
    {
     "data": {
      "text/plain": "'started artichoke dip big mistake cold chips stale mentioned waitress nothing came ordered large pizza thin crust adding toppings bit pricey pizza pizza ok great except advocate server good cardinals game better try another venue next time'"
     },
     "metadata": {},
     "output_type": "display_data"
    }
   ],
   "source": [
    "# Display the cleaned text using the get_clean_text function\n",
    "sample_review = reviews_dataset.text[50]\n",
    "display(get_clean_text(sample_review))"
   ],
   "metadata": {
    "collapsed": false,
    "ExecuteTime": {
     "end_time": "2023-12-01T15:18:48.807555400Z",
     "start_time": "2023-12-01T15:18:48.791879700Z"
    }
   },
   "id": "1eb31c1b9235e003"
  },
  {
   "cell_type": "code",
   "execution_count": 52,
   "outputs": [],
   "source": [
    "import string\n",
    "\n",
    "def get_words(text):\n",
    "    # List of English stopwords from NLTK\n",
    "    stopwords = nltk.corpus.stopwords.words('english')\n",
    "\n",
    "    # Additional custom stopwords to be excluded\n",
    "    newStopWords = ['ive', 'hadnt', 'couldnt', 'didnt', 'id']  \n",
    "    stopwords.extend(newStopWords)\n",
    "\n",
    "    # Case normalization\n",
    "    text = text[2: len(text)-1].lower()\n",
    "    text = text.replace('\\\\n', ' ').replace('\\\\t', ' ')\n",
    "\n",
    "    # Display the processed text\n",
    "    display(text)\n",
    "    nopunc = [char for char in text if char not in string.punctuation]\n",
    "    nopunc = ''.join(nopunc)\n",
    "    display(nopunc)\n",
    "\n",
    "    # Remove stopwords and create a list of words\n",
    "    words_list = [word for word in nopunc.split() if word.lower() not in stopwords]\n",
    "\n",
    "    # Return the list of words and its length\n",
    "    return words_list, len(words_list)"
   ],
   "metadata": {
    "collapsed": false,
    "ExecuteTime": {
     "end_time": "2023-12-01T15:18:49.622142800Z",
     "start_time": "2023-12-01T15:18:49.590427900Z"
    }
   },
   "id": "8f55b9d321b09142"
  },
  {
   "cell_type": "code",
   "execution_count": 53,
   "outputs": [
    {
     "name": "stdout",
     "output_type": "stream",
     "text": [
      "If you decide to eat here, just be aware it is going to take about 2 hours from beginning to end. We have tried it multiple times, because I want to like it! I have been to it's other locations in NJ and never had a bad experience. \n",
      "\n",
      "The food is good, but it takes a very long time to come out. The waitstaff is very young, but usually pleasant. We have just had too many experiences where we spent way too long waiting. We usually opt for another diner or restaurant on the weekends, in order to be done quicker.\n"
     ]
    },
    {
     "data": {
      "text/plain": "\" you decide to eat here, just be aware it is going to take about 2 hours from beginning to end. we have tried it multiple times, because i want to like it! i have been to it's other locations in nj and never had a bad experience. \\n\\nthe food is good, but it takes a very long time to come out. the waitstaff is very young, but usually pleasant. we have just had too many experiences where we spent way too long waiting. we usually opt for another diner or restaurant on the weekends, in order to be done quicker\""
     },
     "metadata": {},
     "output_type": "display_data"
    },
    {
     "data": {
      "text/plain": "' you decide to eat here just be aware it is going to take about 2 hours from beginning to end we have tried it multiple times because i want to like it i have been to its other locations in nj and never had a bad experience \\n\\nthe food is good but it takes a very long time to come out the waitstaff is very young but usually pleasant we have just had too many experiences where we spent way too long waiting we usually opt for another diner or restaurant on the weekends in order to be done quicker'"
     },
     "metadata": {},
     "output_type": "display_data"
    },
    {
     "data": {
      "text/plain": "['decide',\n 'eat',\n 'aware',\n 'going',\n 'take',\n '2',\n 'hours',\n 'beginning',\n 'end',\n 'tried',\n 'multiple',\n 'times',\n 'want',\n 'like',\n 'locations',\n 'nj',\n 'never',\n 'bad',\n 'experience',\n 'food',\n 'good',\n 'takes',\n 'long',\n 'time',\n 'come',\n 'waitstaff',\n 'young',\n 'usually',\n 'pleasant',\n 'many',\n 'experiences',\n 'spent',\n 'way',\n 'long',\n 'waiting',\n 'usually',\n 'opt',\n 'another',\n 'diner',\n 'restaurant',\n 'weekends',\n 'order',\n 'done',\n 'quicker']"
     },
     "metadata": {},
     "output_type": "display_data"
    }
   ],
   "source": [
    "for i in range(1):\n",
    "    # Convert the review to a string\n",
    "    sample_review = str(reviews_dataset.text[i])\n",
    "    print(sample_review)\n",
    "\n",
    "    # Process the review using the get_words function\n",
    "    result = get_words(sample_review)\n",
    "\n",
    "    # Display the list of words\n",
    "    display(result[0])  "
   ],
   "metadata": {
    "collapsed": false,
    "ExecuteTime": {
     "end_time": "2023-12-01T15:18:51.728805300Z",
     "start_time": "2023-12-01T15:18:51.665842700Z"
    }
   },
   "id": "8c7228dfed2788ba"
  },
  {
   "cell_type": "code",
   "execution_count": 54,
   "outputs": [
    {
     "data": {
      "text/plain": "           stars\ncount  100000.00\nmean        3.84\nstd         1.35\nmin         1.00\n25%         3.00\n50%         4.00\n75%         5.00\nmax         5.00",
      "text/html": "<div>\n<style scoped>\n    .dataframe tbody tr th:only-of-type {\n        vertical-align: middle;\n    }\n\n    .dataframe tbody tr th {\n        vertical-align: top;\n    }\n\n    .dataframe thead th {\n        text-align: right;\n    }\n</style>\n<table border=\"1\" class=\"dataframe\">\n  <thead>\n    <tr style=\"text-align: right;\">\n      <th></th>\n      <th>stars</th>\n    </tr>\n  </thead>\n  <tbody>\n    <tr>\n      <th>count</th>\n      <td>100000.00</td>\n    </tr>\n    <tr>\n      <th>mean</th>\n      <td>3.84</td>\n    </tr>\n    <tr>\n      <th>std</th>\n      <td>1.35</td>\n    </tr>\n    <tr>\n      <th>min</th>\n      <td>1.00</td>\n    </tr>\n    <tr>\n      <th>25%</th>\n      <td>3.00</td>\n    </tr>\n    <tr>\n      <th>50%</th>\n      <td>4.00</td>\n    </tr>\n    <tr>\n      <th>75%</th>\n      <td>5.00</td>\n    </tr>\n    <tr>\n      <th>max</th>\n      <td>5.00</td>\n    </tr>\n  </tbody>\n</table>\n</div>"
     },
     "execution_count": 54,
     "metadata": {},
     "output_type": "execute_result"
    }
   ],
   "source": [
    "pd.set_option('display.precision', 2)\n",
    "reviews_dataset.describe()"
   ],
   "metadata": {
    "collapsed": false,
    "ExecuteTime": {
     "end_time": "2023-12-01T15:18:53.242429500Z",
     "start_time": "2023-12-01T15:18:53.210968800Z"
    }
   },
   "id": "5aa96c826e4d2182"
  },
  {
   "cell_type": "code",
   "execution_count": 55,
   "outputs": [
    {
     "data": {
      "text/plain": "stars\n5.0    44392\n4.0    25337\n3.0    11362\n1.0    10921\n2.0     7988\nName: count, dtype: int64"
     },
     "execution_count": 55,
     "metadata": {},
     "output_type": "execute_result"
    },
    {
     "data": {
      "text/plain": "pandas.core.series.Series"
     },
     "execution_count": 55,
     "metadata": {},
     "output_type": "execute_result"
    }
   ],
   "source": [
    "# Count the occurrences of each unique value \n",
    "reviews_dataset[\"stars\"].value_counts()\n",
    "type(reviews_dataset[\"stars\"].value_counts())"
   ],
   "metadata": {
    "collapsed": false,
    "ExecuteTime": {
     "end_time": "2023-12-01T15:18:54.583845700Z",
     "start_time": "2023-12-01T15:18:54.516318400Z"
    }
   },
   "id": "b8caacf3d419dbb2"
  },
  {
   "cell_type": "code",
   "execution_count": 56,
   "outputs": [
    {
     "data": {
      "text/plain": "([<matplotlib.patches.Wedge at 0x2510cdacfd0>,\n  <matplotlib.patches.Wedge at 0x2510cdacf10>,\n  <matplotlib.patches.Wedge at 0x25118f09b20>,\n  <matplotlib.patches.Wedge at 0x251198cb1c0>,\n  <matplotlib.patches.Wedge at 0x251198cb850>],\n [Text(0.19279759757316528, 1.0829723386910748, '5-Stars'),\n  Text(-0.9935222512061754, -0.4721372007777119, '4-Stars'),\n  Text(0.02833384191199754, -1.0996350273624909, '1-Star'),\n  Text(0.7301090542107519, -0.822764102862711, '3-Stars'),\n  Text(1.0655444803646532, -0.27315739119493226, '2-Stars')],\n [Text(0.10516232594899923, 0.5907121847405862, '44.4%'),\n  Text(-0.5419212279306411, -0.25752938224238825, '25.3%'),\n  Text(0.015454822861089564, -0.599800924015904, '11.4%'),\n  Text(0.39824130229677374, -0.44878041974329685, '10.9%'),\n  Text(0.5812060801989016, -0.14899494065178123, '8.0%')])"
     },
     "execution_count": 56,
     "metadata": {},
     "output_type": "execute_result"
    },
    {
     "data": {
      "text/plain": "(-1.0999999659342756,\n 1.0999999983778226,\n -1.0999996903809828,\n 1.0999936045386547)"
     },
     "execution_count": 56,
     "metadata": {},
     "output_type": "execute_result"
    },
    {
     "data": {
      "text/plain": "<Figure size 640x480 with 1 Axes>",
      "image/png": "[encoded data removed]"
     },
     "metadata": {},
     "output_type": "display_data"
    }
   ],
   "source": [
    "#Visualize the distribution\n",
    "labels = '5-Stars', '4-Stars', '1-Star', '3-Stars', '2-Stars'\n",
    "sizes = reviews_dataset[\"stars\"].value_counts()\n",
    "colors = ['lightpink', 'yellowgreen', 'orange', 'lightskyblue','green']\n",
    " \n",
    "# Plot\n",
    "plt.pie(sizes, labels=labels, colors =colors, autopct='%1.1f%%') \n",
    "plt.axis('equal')\n",
    "plt.show()"
   ],
   "metadata": {
    "collapsed": false,
    "ExecuteTime": {
     "end_time": "2023-12-01T15:18:55.528280900Z",
     "start_time": "2023-12-01T15:18:55.418450300Z"
    }
   },
   "id": "e5a7e1350c1f35c8"
  },
  {
   "cell_type": "code",
   "execution_count": null,
   "outputs": [],
   "source": [
    "# Initialize an empty list to store cleaned texts\n",
    "texts = []\n",
    "stars = [reviews_dataset['stars'] for review in reviews_dataset]\n",
    "\n",
    "# Iterate through rows in the reviews_dataset df\n",
    "pbar = tqdm(total=reviews_dataset.shape[0] + 1)\n",
    "\n",
    "# Iterate through each row in the DataFrame\n",
    "for index, row in reviews_dataset.iterrows():\n",
    "    cleaned_text = get_clean_text(row['text'])\n",
    "    \n",
    "    # Append the cleaned text to the texts list\n",
    "    texts.append(cleaned_text)\n",
    "    pbar.update(1)\n",
    "\n",
    "pbar.close()"
   ],
   "metadata": {
    "collapsed": false
   },
   "id": "ca5ea2899efdbf5d"
  },
  {
   "cell_type": "markdown",
   "source": [],
   "metadata": {
    "collapsed": false
   },
   "id": "c116f4081211b886"
  },
  {
   "cell_type": "code",
   "execution_count": 58,
   "outputs": [],
   "source": [
    "from sklearn.feature_extraction.text import TfidfVectorizer\n",
    "\n",
    "vectorizer = TfidfVectorizer(ngram_range=(1,3))\n",
    "vectors = vectorizer.fit_transform(texts)\n",
    "# The vectors matrix now contains the numerical representation of the texts using TF-IDF"
   ],
   "metadata": {
    "collapsed": false,
    "ExecuteTime": {
     "end_time": "2023-12-01T15:20:44.836411300Z",
     "start_time": "2023-12-01T15:20:11.556038900Z"
    }
   },
   "id": "33180df15a66657f"
  },
  {
   "cell_type": "code",
   "execution_count": 59,
   "outputs": [],
   "source": [
    "from sklearn.model_selection import train_test_split\n",
    "#Spit the dataset into train and test parts\n",
    "X_train, X_test, y_train, y_test = train_test_split(vectors, stars[1], test_size=0.15, random_state=42, shuffle =False)"
   ],
   "metadata": {
    "collapsed": false,
    "ExecuteTime": {
     "end_time": "2023-12-01T15:21:27.406999100Z",
     "start_time": "2023-12-01T15:21:27.327640Z"
    }
   },
   "id": "2f744e762d967884"
  },
  {
   "cell_type": "code",
   "execution_count": 60,
   "outputs": [
    {
     "data": {
      "text/plain": "LinearSVC()",
      "text/html": "<style>#sk-container-id-3 {color: black;}#sk-container-id-3 pre{padding: 0;}#sk-container-id-3 div.sk-toggleable {background-color: white;}#sk-container-id-3 label.sk-toggleable__label {cursor: pointer;display: block;width: 100%;margin-bottom: 0;padding: 0.3em;box-sizing: border-box;text-align: center;}#sk-container-id-3 label.sk-toggleable__label-arrow:before {content: \"▸\";float: left;margin-right: 0.25em;color: #696969;}#sk-container-id-3 label.sk-toggleable__label-arrow:hover:before {color: black;}#sk-container-id-3 div.sk-estimator:hover label.sk-toggleable__label-arrow:before {color: black;}#sk-container-id-3 div.sk-toggleable__content {max-height: 0;max-width: 0;overflow: hidden;text-align: left;background-color: #f0f8ff;}#sk-container-id-3 div.sk-toggleable__content pre {margin: 0.2em;color: black;border-radius: 0.25em;background-color: #f0f8ff;}#sk-container-id-3 input.sk-toggleable__control:checked~div.sk-toggleable__content {max-height: 200px;max-width: 100%;overflow: auto;}#sk-container-id-3 input.sk-toggleable__control:checked~label.sk-toggleable__label-arrow:before {content: \"▾\";}#sk-container-id-3 div.sk-estimator input.sk-toggleable__control:checked~label.sk-toggleable__label {background-color: #d4ebff;}#sk-container-id-3 div.sk-label input.sk-toggleable__control:checked~label.sk-toggleable__label {background-color: #d4ebff;}#sk-container-id-3 input.sk-hidden--visually {border: 0;clip: rect(1px 1px 1px 1px);clip: rect(1px, 1px, 1px, 1px);height: 1px;margin: -1px;overflow: hidden;padding: 0;position: absolute;width: 1px;}#sk-container-id-3 div.sk-estimator {font-family: monospace;background-color: #f0f8ff;border: 1px dotted black;border-radius: 0.25em;box-sizing: border-box;margin-bottom: 0.5em;}#sk-container-id-3 div.sk-estimator:hover {background-color: #d4ebff;}#sk-container-id-3 div.sk-parallel-item::after {content: \"\";width: 100%;border-bottom: 1px solid gray;flex-grow: 1;}#sk-container-id-3 div.sk-label:hover label.sk-toggleable__label {background-color: #d4ebff;}#sk-container-id-3 div.sk-serial::before {content: \"\";position: absolute;border-left: 1px solid gray;box-sizing: border-box;top: 0;bottom: 0;left: 50%;z-index: 0;}#sk-container-id-3 div.sk-serial {display: flex;flex-direction: column;align-items: center;background-color: white;padding-right: 0.2em;padding-left: 0.2em;position: relative;}#sk-container-id-3 div.sk-item {position: relative;z-index: 1;}#sk-container-id-3 div.sk-parallel {display: flex;align-items: stretch;justify-content: center;background-color: white;position: relative;}#sk-container-id-3 div.sk-item::before, #sk-container-id-3 div.sk-parallel-item::before {content: \"\";position: absolute;border-left: 1px solid gray;box-sizing: border-box;top: 0;bottom: 0;left: 50%;z-index: -1;}#sk-container-id-3 div.sk-parallel-item {display: flex;flex-direction: column;z-index: 1;position: relative;background-color: white;}#sk-container-id-3 div.sk-parallel-item:first-child::after {align-self: flex-end;width: 50%;}#sk-container-id-3 div.sk-parallel-item:last-child::after {align-self: flex-start;width: 50%;}#sk-container-id-3 div.sk-parallel-item:only-child::after {width: 0;}#sk-container-id-3 div.sk-dashed-wrapped {border: 1px dashed gray;margin: 0 0.4em 0.5em 0.4em;box-sizing: border-box;padding-bottom: 0.4em;background-color: white;}#sk-container-id-3 div.sk-label label {font-family: monospace;font-weight: bold;display: inline-block;line-height: 1.2em;}#sk-container-id-3 div.sk-label-container {text-align: center;}#sk-container-id-3 div.sk-container {/* jupyter's `normalize.less` sets `[hidden] { display: none; }` but bootstrap.min.css set `[hidden] { display: none !important; }` so we also need the `!important` here to be able to override the default hidden behavior on the sphinx rendered scikit-learn.org. See: https://github.com/scikit-learn/scikit-learn/issues/21755 */display: inline-block !important;position: relative;}#sk-container-id-3 div.sk-text-repr-fallback {display: none;}</style><div id=\"sk-container-id-3\" class=\"sk-top-container\"><div class=\"sk-text-repr-fallback\"><pre>LinearSVC()</pre><b>In a Jupyter environment, please rerun this cell to show the HTML representation or trust the notebook. <br />On GitHub, the HTML representation is unable to render, please try loading this page with nbviewer.org.</b></div><div class=\"sk-container\" hidden><div class=\"sk-item\"><div class=\"sk-estimator sk-toggleable\"><input class=\"sk-toggleable__control sk-hidden--visually\" id=\"sk-estimator-id-3\" type=\"checkbox\" checked><label for=\"sk-estimator-id-3\" class=\"sk-toggleable__label sk-toggleable__label-arrow\">LinearSVC</label><div class=\"sk-toggleable__content\"><pre>LinearSVC()</pre></div></div></div></div></div>"
     },
     "execution_count": 60,
     "metadata": {},
     "output_type": "execute_result"
    }
   ],
   "source": [
    "from sklearn.svm import LinearSVC\n",
    "\n",
    "# initialise the SVM classifier\n",
    "classifier = LinearSVC()\n",
    "\n",
    "# train the classifier\n",
    "classifier.fit(X_train, y_train)"
   ],
   "metadata": {
    "collapsed": false,
    "ExecuteTime": {
     "end_time": "2023-12-01T15:21:47.326434300Z",
     "start_time": "2023-12-01T15:21:28.792772400Z"
    }
   },
   "id": "55680f24e8852620"
  },
  {
   "cell_type": "code",
   "execution_count": 61,
   "outputs": [
    {
     "name": "stdout",
     "output_type": "stream",
     "text": [
      "Actual Ratings(Stars): "
     ]
    },
    {
     "data": {
      "text/plain": "85000    4.0\n85001    4.0\n85002    5.0\n85003    5.0\n85004    4.0\nName: stars, dtype: float64"
     },
     "metadata": {},
     "output_type": "display_data"
    },
    {
     "name": "stdout",
     "output_type": "stream",
     "text": [
      "Predicted Ratings: [4. 4. 5. 5. 4.]\n"
     ]
    }
   ],
   "source": [
    "# Make predictions on the test set using the trained classifier\n",
    "preds = classifier.predict(X_test)\n",
    "print(\"Actual Ratings(Stars): \",end = \"\")\n",
    "display(y_test[:5])\n",
    "print(\"Predicted Ratings: \",end = \"\")\n",
    "print(preds[:5])"
   ],
   "metadata": {
    "collapsed": false,
    "ExecuteTime": {
     "end_time": "2023-12-01T15:21:52.340369100Z",
     "start_time": "2023-12-01T15:21:52.245944500Z"
    }
   },
   "id": "34b88afa8226b0d"
  },
  {
   "cell_type": "code",
   "execution_count": 62,
   "outputs": [],
   "source": [
    "X_null, X_full_test, y_null, y_full_test = train_test_split(vectors, stars[1], test_size=0.2, random_state=42, shuffle = False)\n",
    "\n",
    "# Make predictions on the full test set using the trained classifier\n",
    "predict_all = classifier.predict(X_full_test)"
   ],
   "metadata": {
    "collapsed": false,
    "ExecuteTime": {
     "end_time": "2023-12-01T15:21:54.156990500Z",
     "start_time": "2023-12-01T15:21:53.961932700Z"
    }
   },
   "id": "86ac2e172229e632"
  },
  {
   "cell_type": "code",
   "execution_count": 63,
   "outputs": [
    {
     "name": "stdout",
     "output_type": "stream",
     "text": [
      "Actual Ratings(Stars): \n",
      "99995    4.0\n",
      "99996    1.0\n",
      "99997    4.0\n",
      "99998    2.0\n",
      "99999    5.0\n",
      "Name: stars, dtype: float64\n",
      "\n",
      "Predicted Ratings: [4.0, 5.0, 4.0, 3.0, 5.0]\n"
     ]
    }
   ],
   "source": [
    "# Convert the predicted ratings to a list\n",
    "predicted_stars = list(predict_all)\n",
    "print(\"Actual Ratings(Stars): \")\n",
    "print(y_full_test[-5:])\n",
    "\n",
    "# Display the predicted ratings for the last 5 samples in the full test set\n",
    "print(\"\\nPredicted Ratings: \", end=\"\")\n",
    "print(predicted_stars[-5:])\n"
   ],
   "metadata": {
    "collapsed": false,
    "ExecuteTime": {
     "end_time": "2023-12-01T15:21:55.356733800Z",
     "start_time": "2023-12-01T15:21:55.316462Z"
    }
   },
   "id": "e3a42dad1a34bf1c"
  },
  {
   "cell_type": "code",
   "execution_count": 65,
   "outputs": [
    {
     "name": "stdout",
     "output_type": "stream",
     "text": [
      "0.6415333333333333\n"
     ]
    }
   ],
   "source": [
    "# Calculate accuracy\n",
    "from sklearn.metrics import accuracy_score\n",
    "print(accuracy_score(y_test, preds))"
   ],
   "metadata": {
    "collapsed": false,
    "ExecuteTime": {
     "end_time": "2023-12-01T15:21:58.292510800Z",
     "start_time": "2023-12-01T15:21:58.261258900Z"
    }
   },
   "id": "79711b224e541475"
  },
  {
   "cell_type": "code",
   "execution_count": 66,
   "outputs": [
    {
     "name": "stdout",
     "output_type": "stream",
     "text": [
      "Precision: 0.6138340799842749\n",
      "Recall: 0.6415333333333333\n"
     ]
    }
   ],
   "source": [
    "# Calculate the precision_score and recall_scor\n",
    "from sklearn.metrics import precision_score\n",
    "from sklearn.metrics import recall_score\n",
    "print ('Precision: ' + str(precision_score(y_test, preds, average='weighted')))\n",
    "print ('Recall: ' + str(recall_score(y_test, preds, average='weighted')))"
   ],
   "metadata": {
    "collapsed": false,
    "ExecuteTime": {
     "end_time": "2023-12-01T15:21:59.521837800Z",
     "start_time": "2023-12-01T15:21:59.465430200Z"
    }
   },
   "id": "90a22cdcdfe8fc0b"
  },
  {
   "cell_type": "code",
   "execution_count": 67,
   "outputs": [
    {
     "name": "stdout",
     "output_type": "stream",
     "text": [
      "              precision    recall  f1-score   support\n",
      "\n",
      "         1.0       0.67      0.80      0.73      1655\n",
      "         2.0       0.51      0.22      0.30      1187\n",
      "         3.0       0.50      0.26      0.34      1763\n",
      "         4.0       0.52      0.42      0.46      3727\n",
      "         5.0       0.70      0.90      0.79      6668\n",
      "\n",
      "    accuracy                           0.64     15000\n",
      "   macro avg       0.58      0.52      0.53     15000\n",
      "weighted avg       0.61      0.64      0.61     15000\n"
     ]
    }
   ],
   "source": [
    "from sklearn.metrics import classification_report\n",
    "print(classification_report(y_test, preds))"
   ],
   "metadata": {
    "collapsed": false,
    "ExecuteTime": {
     "end_time": "2023-12-01T15:22:00.691289700Z",
     "start_time": "2023-12-01T15:22:00.628570200Z"
    }
   },
   "id": "b0fdf42e82bac494"
  },
  {
   "cell_type": "code",
   "execution_count": 68,
   "outputs": [],
   "source": [
    "import itertools  \n",
    "def plot_confusion_matrix(cm, classes,\n",
    "                          normalize=False,\n",
    "                          title='Confusion matrix',\n",
    "                          cmap=plt.cm.Blues):\n",
    "    if normalize:\n",
    "        cm = cm.astype('float') / cm.sum(axis=1)[:, np.newaxis]\n",
    "        print(\"Normalized confusion matrix\")\n",
    "    else:\n",
    "        print('Confusion matrix, without normalization')\n",
    "\n",
    "    print(cm)\n",
    "\n",
    "    plt.imshow(cm, interpolation='nearest', cmap=cmap)\n",
    "    plt.title(title)\n",
    "    plt.colorbar()\n",
    "    tick_marks = np.arange(len(classes))\n",
    "    plt.xticks(tick_marks, classes, rotation=45)\n",
    "    plt.yticks(tick_marks, classes)\n",
    "\n",
    "    fmt = '.2f' if normalize else 'd'\n",
    "    thresh = cm.max() / 2.\n",
    "    for i, j in itertools.product(range(cm.shape[0]), range(cm.shape[1])):\n",
    "        plt.text(j, i, format(cm[i, j], fmt),\n",
    "                 horizontalalignment=\"center\",\n",
    "                 color=\"white\" if cm[i, j] > thresh else \"black\")\n",
    "\n",
    "    plt.tight_layout()\n",
    "    plt.ylabel('True label')\n",
    "    plt.xlabel('Predicted label')"
   ],
   "metadata": {
    "collapsed": false,
    "ExecuteTime": {
     "end_time": "2023-12-01T15:22:01.677910Z",
     "start_time": "2023-12-01T15:22:01.660888100Z"
    }
   },
   "id": "6ab822d708dbf470"
  },
  {
   "cell_type": "code",
   "execution_count": 69,
   "outputs": [
    {
     "data": {
      "text/plain": "<Figure size 640x480 with 0 Axes>"
     },
     "execution_count": 69,
     "metadata": {},
     "output_type": "execute_result"
    },
    {
     "name": "stdout",
     "output_type": "stream",
     "text": [
      "Confusion matrix, without normalization\n",
      "[[1322  110   56   38  129]\n",
      " [ 407  257  239  143  141]\n",
      " [ 145  119  460  697  342]\n",
      " [  47    9  150 1576 1945]\n",
      " [  38    5   16  601 6008]]\n"
     ]
    },
    {
     "data": {
      "text/plain": "<Figure size 640x480 with 0 Axes>"
     },
     "execution_count": 69,
     "metadata": {},
     "output_type": "execute_result"
    },
    {
     "name": "stdout",
     "output_type": "stream",
     "text": [
      "Normalized confusion matrix\n",
      "[[7.99e-01 6.65e-02 3.38e-02 2.30e-02 7.79e-02]\n",
      " [3.43e-01 2.17e-01 2.01e-01 1.20e-01 1.19e-01]\n",
      " [8.22e-02 6.75e-02 2.61e-01 3.95e-01 1.94e-01]\n",
      " [1.26e-02 2.41e-03 4.02e-02 4.23e-01 5.22e-01]\n",
      " [5.70e-03 7.50e-04 2.40e-03 9.01e-02 9.01e-01]]\n"
     ]
    },
    {
     "data": {
      "text/plain": "<Figure size 640x480 with 2 Axes>",
      "image/png": "[encoded data removed]"
     },
     "metadata": {},
     "output_type": "display_data"
    },
    {
     "data": {
      "text/plain": "<Figure size 640x480 with 2 Axes>",
      "image/png": "[encoded data removed]"
     },
     "metadata": {},
     "output_type": "display_data"
    }
   ],
   "source": [
    "from sklearn import metrics\n",
    "names = ['1','2','3','4','5']\n",
    "\n",
    "# Compute confusion matrix\n",
    "cnf_matrix = metrics.confusion_matrix(y_test, preds)\n",
    "np.set_printoptions(precision=2)\n",
    "\n",
    "# Plot non-normalized confusion matrix\n",
    "plt.figure()\n",
    "plot_confusion_matrix(cnf_matrix, classes=names,\n",
    "                      title='Confusion matrix, without normalization')\n",
    "\n",
    "# Plot normalized confusion matrix\n",
    "plt.figure()\n",
    "plot_confusion_matrix(cnf_matrix, classes=names, normalize=True,\n",
    "                      title='Normalized confusion matrix')\n",
    "\n",
    "plt.show()"
   ],
   "metadata": {
    "collapsed": false,
    "ExecuteTime": {
     "end_time": "2023-12-01T15:22:03.406578300Z",
     "start_time": "2023-12-01T15:22:02.573503100Z"
    }
   },
   "id": "70571fcf966b6b56"
  },
  {
   "cell_type": "code",
   "execution_count": 70,
   "outputs": [
    {
     "name": "stdout",
     "output_type": "stream",
     "text": [
      "100000\n"
     ]
    }
   ],
   "source": [
    "# making binary classes\n",
    "sentiments = []\n",
    "for star in stars[1]:\n",
    "    if star <= 3:\n",
    "        sentiments.append('negative')\n",
    "    if star > 3:\n",
    "        sentiments.append('positive')\n",
    "\n",
    "print(len(sentiments))        "
   ],
   "metadata": {
    "collapsed": false,
    "ExecuteTime": {
     "end_time": "2023-12-01T15:22:04.443271100Z",
     "start_time": "2023-12-01T15:22:04.380041200Z"
    }
   },
   "id": "13fdac4aab8b3ca2"
  },
  {
   "cell_type": "code",
   "execution_count": 71,
   "outputs": [],
   "source": [
    "# Split the TF-IDF vectors and corresponding binary sentiment classes (sentiments) into training and testing sets\n",
    "X2_train, X2_test, y2_train, y2_test = train_test_split(vectors, sentiments, test_size=0.20, random_state=42)"
   ],
   "metadata": {
    "collapsed": false,
    "ExecuteTime": {
     "end_time": "2023-12-01T15:22:05.581192900Z",
     "start_time": "2023-12-01T15:22:05.470898300Z"
    }
   },
   "id": "e56c055f7b33b06b"
  },
  {
   "cell_type": "code",
   "execution_count": 72,
   "outputs": [
    {
     "data": {
      "text/plain": "LinearSVC()",
      "text/html": "<style>#sk-container-id-4 {color: black;}#sk-container-id-4 pre{padding: 0;}#sk-container-id-4 div.sk-toggleable {background-color: white;}#sk-container-id-4 label.sk-toggleable__label {cursor: pointer;display: block;width: 100%;margin-bottom: 0;padding: 0.3em;box-sizing: border-box;text-align: center;}#sk-container-id-4 label.sk-toggleable__label-arrow:before {content: \"▸\";float: left;margin-right: 0.25em;color: #696969;}#sk-container-id-4 label.sk-toggleable__label-arrow:hover:before {color: black;}#sk-container-id-4 div.sk-estimator:hover label.sk-toggleable__label-arrow:before {color: black;}#sk-container-id-4 div.sk-toggleable__content {max-height: 0;max-width: 0;overflow: hidden;text-align: left;background-color: #f0f8ff;}#sk-container-id-4 div.sk-toggleable__content pre {margin: 0.2em;color: black;border-radius: 0.25em;background-color: #f0f8ff;}#sk-container-id-4 input.sk-toggleable__control:checked~div.sk-toggleable__content {max-height: 200px;max-width: 100%;overflow: auto;}#sk-container-id-4 input.sk-toggleable__control:checked~label.sk-toggleable__label-arrow:before {content: \"▾\";}#sk-container-id-4 div.sk-estimator input.sk-toggleable__control:checked~label.sk-toggleable__label {background-color: #d4ebff;}#sk-container-id-4 div.sk-label input.sk-toggleable__control:checked~label.sk-toggleable__label {background-color: #d4ebff;}#sk-container-id-4 input.sk-hidden--visually {border: 0;clip: rect(1px 1px 1px 1px);clip: rect(1px, 1px, 1px, 1px);height: 1px;margin: -1px;overflow: hidden;padding: 0;position: absolute;width: 1px;}#sk-container-id-4 div.sk-estimator {font-family: monospace;background-color: #f0f8ff;border: 1px dotted black;border-radius: 0.25em;box-sizing: border-box;margin-bottom: 0.5em;}#sk-container-id-4 div.sk-estimator:hover {background-color: #d4ebff;}#sk-container-id-4 div.sk-parallel-item::after {content: \"\";width: 100%;border-bottom: 1px solid gray;flex-grow: 1;}#sk-container-id-4 div.sk-label:hover label.sk-toggleable__label {background-color: #d4ebff;}#sk-container-id-4 div.sk-serial::before {content: \"\";position: absolute;border-left: 1px solid gray;box-sizing: border-box;top: 0;bottom: 0;left: 50%;z-index: 0;}#sk-container-id-4 div.sk-serial {display: flex;flex-direction: column;align-items: center;background-color: white;padding-right: 0.2em;padding-left: 0.2em;position: relative;}#sk-container-id-4 div.sk-item {position: relative;z-index: 1;}#sk-container-id-4 div.sk-parallel {display: flex;align-items: stretch;justify-content: center;background-color: white;position: relative;}#sk-container-id-4 div.sk-item::before, #sk-container-id-4 div.sk-parallel-item::before {content: \"\";position: absolute;border-left: 1px solid gray;box-sizing: border-box;top: 0;bottom: 0;left: 50%;z-index: -1;}#sk-container-id-4 div.sk-parallel-item {display: flex;flex-direction: column;z-index: 1;position: relative;background-color: white;}#sk-container-id-4 div.sk-parallel-item:first-child::after {align-self: flex-end;width: 50%;}#sk-container-id-4 div.sk-parallel-item:last-child::after {align-self: flex-start;width: 50%;}#sk-container-id-4 div.sk-parallel-item:only-child::after {width: 0;}#sk-container-id-4 div.sk-dashed-wrapped {border: 1px dashed gray;margin: 0 0.4em 0.5em 0.4em;box-sizing: border-box;padding-bottom: 0.4em;background-color: white;}#sk-container-id-4 div.sk-label label {font-family: monospace;font-weight: bold;display: inline-block;line-height: 1.2em;}#sk-container-id-4 div.sk-label-container {text-align: center;}#sk-container-id-4 div.sk-container {/* jupyter's `normalize.less` sets `[hidden] { display: none; }` but bootstrap.min.css set `[hidden] { display: none !important; }` so we also need the `!important` here to be able to override the default hidden behavior on the sphinx rendered scikit-learn.org. See: https://github.com/scikit-learn/scikit-learn/issues/21755 */display: inline-block !important;position: relative;}#sk-container-id-4 div.sk-text-repr-fallback {display: none;}</style><div id=\"sk-container-id-4\" class=\"sk-top-container\"><div class=\"sk-text-repr-fallback\"><pre>LinearSVC()</pre><b>In a Jupyter environment, please rerun this cell to show the HTML representation or trust the notebook. <br />On GitHub, the HTML representation is unable to render, please try loading this page with nbviewer.org.</b></div><div class=\"sk-container\" hidden><div class=\"sk-item\"><div class=\"sk-estimator sk-toggleable\"><input class=\"sk-toggleable__control sk-hidden--visually\" id=\"sk-estimator-id-4\" type=\"checkbox\" checked><label for=\"sk-estimator-id-4\" class=\"sk-toggleable__label sk-toggleable__label-arrow\">LinearSVC</label><div class=\"sk-toggleable__content\"><pre>LinearSVC()</pre></div></div></div></div></div>"
     },
     "execution_count": 72,
     "metadata": {},
     "output_type": "execute_result"
    }
   ],
   "source": [
    "# Initialize a SVM for binary sentiment classification\n",
    "classifier2 = LinearSVC()\n",
    "\n",
    "# Train the classifier on the training data for binary sentiment \n",
    "classifier2.fit(X2_train, y2_train)"
   ],
   "metadata": {
    "collapsed": false,
    "ExecuteTime": {
     "end_time": "2023-12-01T15:22:10.137026800Z",
     "start_time": "2023-12-01T15:22:06.391695600Z"
    }
   },
   "id": "41c738ccfaa9ced8"
  },
  {
   "cell_type": "code",
   "execution_count": 73,
   "outputs": [
    {
     "name": "stdout",
     "output_type": "stream",
     "text": [
      "Actual Class:    ['negative', 'positive', 'negative', 'positive', 'positive', 'positive', 'positive', 'positive', 'positive', 'negative']\n",
      "\n",
      "Predicted Class: ['positive', 'positive', 'negative', 'positive', 'positive', 'positive', 'positive', 'positive', 'positive', 'negative']\n"
     ]
    }
   ],
   "source": [
    "#Make predictions \n",
    "preds2 = classifier2.predict(X2_test)\n",
    "print(\"Actual Class:    \",end = \"\")\n",
    "print(y2_test[:10])\n",
    "print(\"\\nPredicted Class: \",end = \"\")\n",
    "print(list(preds2[:10]))"
   ],
   "metadata": {
    "collapsed": false,
    "ExecuteTime": {
     "end_time": "2023-12-01T15:22:11.042702200Z",
     "start_time": "2023-12-01T15:22:10.995435400Z"
    }
   },
   "id": "23f0cd862a285a6f"
  },
  {
   "cell_type": "code",
   "execution_count": 74,
   "outputs": [
    {
     "name": "stdout",
     "output_type": "stream",
     "text": [
      "0.9047\n"
     ]
    }
   ],
   "source": [
    "#Calculate accuracy \n",
    "print(accuracy_score(y2_test, preds2))"
   ],
   "metadata": {
    "collapsed": false,
    "ExecuteTime": {
     "end_time": "2023-12-01T15:22:12.133709800Z",
     "start_time": "2023-12-01T15:22:12.069169400Z"
    }
   },
   "id": "1ca7923b1c6ba795"
  },
  {
   "cell_type": "code",
   "execution_count": 75,
   "outputs": [
    {
     "name": "stdout",
     "output_type": "stream",
     "text": [
      "Precision: 0.9044523905534119\n",
      "Recall: 0.9047\n"
     ]
    }
   ],
   "source": [
    "from sklearn.metrics import precision_score\n",
    "from sklearn.metrics import recall_score\n",
    "print ('Precision: ' + str(precision_score(y2_test, preds2, average='weighted')))\n",
    "print ('Recall: ' + str(recall_score(y2_test, preds2, average='weighted')))"
   ],
   "metadata": {
    "collapsed": false,
    "ExecuteTime": {
     "end_time": "2023-12-01T15:22:13.148399600Z",
     "start_time": "2023-12-01T15:22:12.960794600Z"
    }
   },
   "id": "7b10824ac107932"
  },
  {
   "cell_type": "code",
   "execution_count": 76,
   "outputs": [
    {
     "name": "stdout",
     "output_type": "stream",
     "text": [
      "              precision    recall  f1-score   support\n",
      "\n",
      "    negative       0.90      0.77      0.83      6037\n",
      "    positive       0.91      0.96      0.93     13963\n",
      "\n",
      "    accuracy                           0.90     20000\n",
      "   macro avg       0.90      0.87      0.88     20000\n",
      "weighted avg       0.90      0.90      0.90     20000\n"
     ]
    }
   ],
   "source": [
    "print(classification_report(y2_test, preds2))"
   ],
   "metadata": {
    "collapsed": false,
    "ExecuteTime": {
     "end_time": "2023-12-01T15:22:14.363530200Z",
     "start_time": "2023-12-01T15:22:14.111961400Z"
    }
   },
   "id": "95b6841123ffc951"
  },
  {
   "cell_type": "code",
   "execution_count": 77,
   "outputs": [
    {
     "name": "stdout",
     "output_type": "stream",
     "text": [
      "[[ 4644  1393]\n",
      " [  513 13450]]\n"
     ]
    }
   ],
   "source": [
    "print(metrics.confusion_matrix(y2_test, preds2))\n"
   ],
   "metadata": {
    "collapsed": false,
    "ExecuteTime": {
     "end_time": "2023-12-01T15:22:15.284264800Z",
     "start_time": "2023-12-01T15:22:15.186881700Z"
    }
   },
   "id": "8cf9ceee2284c27f"
  },
  {
   "cell_type": "code",
   "execution_count": 78,
   "outputs": [
    {
     "data": {
      "text/plain": "<Figure size 800x600 with 0 Axes>"
     },
     "execution_count": 78,
     "metadata": {},
     "output_type": "execute_result"
    },
    {
     "data": {
      "text/plain": "<Axes: >"
     },
     "execution_count": 78,
     "metadata": {},
     "output_type": "execute_result"
    },
    {
     "data": {
      "text/plain": "Text(0.5, 1.0, 'Confusion Matrix')"
     },
     "execution_count": 78,
     "metadata": {},
     "output_type": "execute_result"
    },
    {
     "data": {
      "text/plain": "Text(0.5, 36.72222222222221, 'Predicted')"
     },
     "execution_count": 78,
     "metadata": {},
     "output_type": "execute_result"
    },
    {
     "data": {
      "text/plain": "Text(70.72222222222221, 0.5, 'Actual')"
     },
     "execution_count": 78,
     "metadata": {},
     "output_type": "execute_result"
    },
    {
     "data": {
      "text/plain": "<Figure size 800x600 with 2 Axes>",
      "image/png": "[encoded data removed]"
     },
     "metadata": {},
     "output_type": "display_data"
    }
   ],
   "source": [
    "from sklearn.metrics import confusion_matrix, accuracy_score, classification_report\n",
    "import seaborn as sns\n",
    "import matplotlib.pyplot as plt\n",
    "\n",
    "# Assuming preds_scaled contains the predicted labels for the test set\n",
    "\n",
    "# Compute confusion matrix\n",
    "cm = confusion_matrix(y2_test, preds2)\n",
    "\n",
    "# Plot confusion matrix\n",
    "plt.figure(figsize=(8, 6))\n",
    "sns.heatmap(cm, annot=True, fmt='d', cmap='Blues', xticklabels=['Negative', 'Positive'], yticklabels=['Negative', 'Positive'])\n",
    "plt.title('Confusion Matrix')\n",
    "plt.xlabel('Predicted')\n",
    "plt.ylabel('Actual')\n",
    "plt.show()"
   ],
   "metadata": {
    "collapsed": false,
    "ExecuteTime": {
     "end_time": "2023-12-01T15:22:16.475067200Z",
     "start_time": "2023-12-01T15:22:16.199491400Z"
    }
   },
   "id": "2eb9da3b0258758b"
  },
  {
   "cell_type": "code",
   "execution_count": 79,
   "outputs": [
    {
     "name": "stdout",
     "output_type": "stream",
     "text": [
      "Accuracy: 90.47%\n",
      "Classification Report:\n",
      "              precision    recall  f1-score   support\n",
      "\n",
      "    negative       0.90      0.77      0.83      6037\n",
      "    positive       0.91      0.96      0.93     13963\n",
      "\n",
      "    accuracy                           0.90     20000\n",
      "   macro avg       0.90      0.87      0.88     20000\n",
      "weighted avg       0.90      0.90      0.90     20000\n"
     ]
    }
   ],
   "source": [
    "# Compute accuracy\n",
    "accuracy = accuracy_score(y2_test, preds2)\n",
    "print(f'Accuracy: {accuracy:.2%}')\n",
    "\n",
    "# Display classification report\n",
    "print('Classification Report:')\n",
    "print(classification_report(y2_test, preds2))"
   ],
   "metadata": {
    "collapsed": false,
    "ExecuteTime": {
     "end_time": "2023-12-01T15:22:17.753706300Z",
     "start_time": "2023-12-01T15:22:17.422934100Z"
    }
   },
   "id": "ea2d1db59bbff73c"
  }
 ],
 "metadata": {
  "kernelspec": {
   "display_name": "Python 3",
   "language": "python",
   "name": "python3"
  },
  "language_info": {
   "codemirror_mode": {
    "name": "ipython",
    "version": 2
   },
   "file_extension": ".py",
   "mimetype": "text/x-python",
   "name": "python",
   "nbconvert_exporter": "python",
   "pygments_lexer": "ipython2",
   "version": "2.7.6"
  }
 },
 "nbformat": 4,
 "nbformat_minor": 5
}
