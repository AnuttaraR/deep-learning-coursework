{
 "cells": [
  {
   "cell_type": "code",
   "execution_count": 20,
   "outputs": [],
   "source": [
    "import pandas as pd\n",
    "import json"
   ],
   "metadata": {
    "collapsed": false,
    "ExecuteTime": {
     "end_time": "2023-11-05T14:23:00.672118200Z",
     "start_time": "2023-11-05T14:23:00.659497200Z"
    }
   },
   "id": "2fbde58686a585bb"
  },
  {
   "cell_type": "code",
   "execution_count": 21,
   "outputs": [],
   "source": [
    "file_path = \"C:\\\\Users\\\\USER\\\\Downloads\\\\yelp_dataset\\\\yelp_academic_dataset_review.json\""
   ],
   "metadata": {
    "collapsed": false,
    "ExecuteTime": {
     "end_time": "2023-11-05T14:23:02.731987100Z",
     "start_time": "2023-11-05T14:23:02.702458Z"
    }
   },
   "id": "initial_id"
  },
  {
   "cell_type": "code",
   "execution_count": 22,
   "outputs": [],
   "source": [
    "# Read the json file in the given file path\n",
    "reviews = pd.read_json(file_path, lines=True, chunksize=10000)"
   ],
   "metadata": {
    "collapsed": false,
    "ExecuteTime": {
     "end_time": "2023-11-05T14:23:06.674544600Z",
     "start_time": "2023-11-05T14:23:06.650979300Z"
    }
   },
   "id": "7fa00885571ad257"
  },
  {
   "cell_type": "code",
   "execution_count": 25,
   "outputs": [],
   "source": [
    "import pandas as pd\n",
    "\n",
    "def process_data(reviews_reader, max_rows=10000, min_text_length=100, max_text_length=128):\n",
    "    processed_df = None\n",
    "    while True:\n",
    "        df = next(reviews_reader)\n",
    "        \n",
    "        # Filter rows based on text length and select columns 'text' and 'stars'.\n",
    "        df = df.loc[(df['text'].str.len() > min_text_length) & (df['text'].str.len() <= max_text_length), ['text', 'stars']]\n",
    "        \n",
    "        if processed_df is None:\n",
    "            processed_df = df\n",
    "        else:\n",
    "            # Concatenate the unclean DataFrame with the processed DataFrame.\n",
    "            processed_df = pd.concat([processed_df, df], ignore_index=True)\n",
    "        \n",
    "        for rating in range(1, 6):\n",
    "            rating_df = processed_df[processed_df['stars'] == rating]\n",
    "            if len(rating_df) > max_rows // 5:\n",
    "                # Select the top nrows // 5 rows for a specific rating.\n",
    "                rating_df = rating_df.iloc[:max_rows // 5]\n",
    "                \n",
    "                # Remove rows with the same rating from the processed DataFrame.\n",
    "                processed_df = processed_df.drop(processed_df[processed_df['stars'] == rating].index)\n",
    "                \n",
    "                # Concatenate the filtered rating DataFrame with the processed DataFrame.\n",
    "                processed_df = pd.concat([processed_df, rating_df], ignore_index=True)\n",
    "        \n",
    "        if len(processed_df) >= max_rows:\n",
    "            return processed_df\n"
   ],
   "metadata": {
    "collapsed": false,
    "ExecuteTime": {
     "end_time": "2023-11-05T14:25:17.112773500Z",
     "start_time": "2023-11-05T14:25:17.093996500Z"
    }
   },
   "id": "5c2211599ab86f4a"
  },
  {
   "cell_type": "code",
   "execution_count": 26,
   "outputs": [],
   "source": [
    "train_df = process_data(reviews)\n",
    "test_df = process_data(reviews)"
   ],
   "metadata": {
    "collapsed": false,
    "ExecuteTime": {
     "end_time": "2023-11-05T14:25:59.732116900Z",
     "start_time": "2023-11-05T14:25:20.622335200Z"
    }
   },
   "id": "e5fdbcf8ae3720fa"
  },
  {
   "cell_type": "code",
   "execution_count": 27,
   "outputs": [
    {
     "data": {
      "text/plain": "                                                text  stars\n0  Retail stores closing early ( over an hour) is...      1\n1  Didn't tell me how much the labor will cost an...      1\n2  I'll just say I have had better! I won't be go...      1\n3  This place is horrible. The food is so salty t...      1\n4  Wow. I ordered soup because I'm getting sick a...      1",
      "text/html": "<div>\n<style scoped>\n    .dataframe tbody tr th:only-of-type {\n        vertical-align: middle;\n    }\n\n    .dataframe tbody tr th {\n        vertical-align: top;\n    }\n\n    .dataframe thead th {\n        text-align: right;\n    }\n</style>\n<table border=\"1\" class=\"dataframe\">\n  <thead>\n    <tr style=\"text-align: right;\">\n      <th></th>\n      <th>text</th>\n      <th>stars</th>\n    </tr>\n  </thead>\n  <tbody>\n    <tr>\n      <th>0</th>\n      <td>Retail stores closing early ( over an hour) is...</td>\n      <td>1</td>\n    </tr>\n    <tr>\n      <th>1</th>\n      <td>Didn't tell me how much the labor will cost an...</td>\n      <td>1</td>\n    </tr>\n    <tr>\n      <th>2</th>\n      <td>I'll just say I have had better! I won't be go...</td>\n      <td>1</td>\n    </tr>\n    <tr>\n      <th>3</th>\n      <td>This place is horrible. The food is so salty t...</td>\n      <td>1</td>\n    </tr>\n    <tr>\n      <th>4</th>\n      <td>Wow. I ordered soup because I'm getting sick a...</td>\n      <td>1</td>\n    </tr>\n  </tbody>\n</table>\n</div>"
     },
     "execution_count": 27,
     "metadata": {},
     "output_type": "execute_result"
    }
   ],
   "source": [
    "train_df.head()\n",
    "test_df.head()"
   ],
   "metadata": {
    "collapsed": false,
    "ExecuteTime": {
     "end_time": "2023-11-05T14:26:06.113547500Z",
     "start_time": "2023-11-05T14:26:05.948838100Z"
    }
   },
   "id": "5e30c70162f1112"
  }
 ],
 "metadata": {
  "kernelspec": {
   "display_name": "Python 3",
   "language": "python",
   "name": "python3"
  },
  "language_info": {
   "codemirror_mode": {
    "name": "ipython",
    "version": 2
   },
   "file_extension": ".py",
   "mimetype": "text/x-python",
   "name": "python",
   "nbconvert_exporter": "python",
   "pygments_lexer": "ipython2",
   "version": "2.7.6"
  }
 },
 "nbformat": 4,
 "nbformat_minor": 5
}
